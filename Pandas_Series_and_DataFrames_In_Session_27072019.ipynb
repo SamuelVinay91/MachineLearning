{
  "nbformat": 4,
  "nbformat_minor": 0,
  "metadata": {
    "kernelspec": {
      "display_name": "Python 3",
      "language": "python",
      "name": "python3"
    },
    "language_info": {
      "codemirror_mode": {
        "name": "ipython",
        "version": 3
      },
      "file_extension": ".py",
      "mimetype": "text/x-python",
      "name": "python",
      "nbconvert_exporter": "python",
      "pygments_lexer": "ipython3",
      "version": "3.7.0"
    },
    "colab": {
      "name": "Pandas - Series and DataFrames - In Session - 27072019.ipynb",
      "version": "0.3.2",
      "provenance": [],
      "include_colab_link": true
    }
  },
  "cells": [
    {
      "cell_type": "markdown",
      "metadata": {
        "id": "view-in-github",
        "colab_type": "text"
      },
      "source": [
        "<a href=\"https://colab.research.google.com/github/SamuelVinay91/MachineLearning/blob/master/Pandas_Series_and_DataFrames_In_Session_27072019.ipynb\" target=\"_parent\"><img src=\"https://colab.research.google.com/assets/colab-badge.svg\" alt=\"Open In Colab\"/></a>"
      ]
    },
    {
      "cell_type": "markdown",
      "metadata": {
        "id": "LhN44o4b9myn",
        "colab_type": "text"
      },
      "source": [
        "# Series\n",
        "\n",
        "Series: It is a one-dimensional array-like structure used to represent a dataset and can be visualized as a single row dataset. It supports multiple data types, such as Integer, string, float\n",
        "\n",
        "Series can be created in multiple ways with the help of data elements which, if defined properly, act as data input to create a series. Therefore, data input can be an ndarray, dict, scalar, or a list. Let’s take a look at each one in detail.\n",
        "\n",
        "Now, let’s see how we can create a series."
      ]
    },
    {
      "cell_type": "code",
      "metadata": {
        "id": "7Htme-IM9myo",
        "colab_type": "code",
        "colab": {}
      },
      "source": [
        "import numpy as np\n",
        "import pandas as pd"
      ],
      "execution_count": 0,
      "outputs": []
    },
    {
      "cell_type": "markdown",
      "metadata": {
        "id": "kRXI_Qd39myq",
        "colab_type": "text"
      },
      "source": [
        "### List: \n",
        "\n",
        "This basic Python data structure which can act as an input to create Pandas series. List can hold a range of values of multiple data types. So, if a dataset appears as list, use list as input to create series.\n"
      ]
    },
    {
      "cell_type": "code",
      "metadata": {
        "id": "llmdJlMB9myr",
        "colab_type": "code",
        "colab": {},
        "outputId": "9e4546f7-9bdc-4899-dee0-38ebfeb1f183"
      },
      "source": [
        "print (list('abcdef'))"
      ],
      "execution_count": 0,
      "outputs": [
        {
          "output_type": "stream",
          "text": [
            "['a', 'b', 'c', 'd', 'e', 'f']\n"
          ],
          "name": "stdout"
        }
      ]
    },
    {
      "cell_type": "code",
      "metadata": {
        "id": "8kudlsbv9myu",
        "colab_type": "code",
        "colab": {},
        "outputId": "2b938277-b141-4906-8e58-7970064a6a1f"
      },
      "source": [
        "# Pass list as an argument\n",
        "first_series = pd.Series(list('abcdef'))\n",
        "print (first_series)"
      ],
      "execution_count": 0,
      "outputs": [
        {
          "output_type": "stream",
          "text": [
            "0    a\n",
            "1    b\n",
            "2    c\n",
            "3    d\n",
            "4    e\n",
            "5    f\n",
            "dtype: object\n"
          ],
          "name": "stdout"
        }
      ]
    },
    {
      "cell_type": "markdown",
      "metadata": {
        "id": "jRrfl0Va9myx",
        "colab_type": "text"
      },
      "source": [
        "Shows index, data value and data type\n",
        "\n",
        "We have not created index for data but notice that data alignment is done automatically"
      ]
    },
    {
      "cell_type": "markdown",
      "metadata": {
        "id": "KF4fT-yB9myx",
        "colab_type": "text"
      },
      "source": [
        "### ndarray\n",
        "    \n",
        "An ndarray can be used as an input to create Pandas series. The use of ndarray is recommended wherever the dataset is number-centric and requires complex numerical computing. "
      ]
    },
    {
      "cell_type": "code",
      "metadata": {
        "id": "5kN2g_GT9myy",
        "colab_type": "code",
        "colab": {}
      },
      "source": [
        "# ndarray for countries\n",
        "np_countries = np.array(['Algeria','Angola','Argentina','Australia','Austria','Bahamas','Bangladesh','Belarus','Belgium',\n",
        "                      'Bhutan','Brazil','Bulgaria','Cambodia','Cameroon','Chile','China','Colombia','Cyprus','Denmark'])"
      ],
      "execution_count": 0,
      "outputs": []
    },
    {
      "cell_type": "code",
      "metadata": {
        "id": "2SDNq3uj9my0",
        "colab_type": "code",
        "colab": {},
        "outputId": "879a513e-fa57-4345-b8e8-7a13a8b9b391"
      },
      "source": [
        "# Pass ndarray as an argument\n",
        "s_countries = pd.Series(np_countries)\n",
        "print (s_countries[0:5])"
      ],
      "execution_count": 0,
      "outputs": [
        {
          "output_type": "stream",
          "text": [
            "0      Algeria\n",
            "1       Angola\n",
            "2    Argentina\n",
            "3    Australia\n",
            "4      Austria\n",
            "dtype: object\n"
          ],
          "name": "stdout"
        }
      ]
    },
    {
      "cell_type": "markdown",
      "metadata": {
        "id": "Yr6XMO--9my2",
        "colab_type": "text"
      },
      "source": [
        "### dict\n",
        "A Pandas series can also be created using dictionary and it is very efficient when it comes to indexing or reindexing a dataset for data wrangling purposes. dict works in a key-value fashion, so use it whenever the dataset is structured as key-value pair."
      ]
    },
    {
      "cell_type": "code",
      "metadata": {
        "id": "FQt_3G759my3",
        "colab_type": "code",
        "colab": {}
      },
      "source": [
        "# Series for countries and their gdp\n",
        "country_gdp = pd.Series([2255.225482,629.9553062,11601.63022,25306.82494,27266.40335,19466.99052,588.3691778,2890.345675,\n",
        "                           24733.62696,1445.760002,4803.398244,2618.876037,590.4521124,665.7982328,7122.938458,2639.54156,\n",
        "                           3362.4656,15378.16704,30860.12808], \n",
        "                             index = ['Algeria','Angola','Argentina','Australia','Austria','Bahamas','Bangladesh','Belarus',\n",
        "                                      'Belgium','Bhutan','Brazil','Bulgaria','Cambodia','Cameroon','Chile','China','Colombia',\n",
        "                                      'Cyprus','Denmark'])\n"
      ],
      "execution_count": 0,
      "outputs": []
    },
    {
      "cell_type": "code",
      "metadata": {
        "id": "GGjSUWS_9my4",
        "colab_type": "code",
        "colab": {},
        "outputId": "59865e06-a7c0-4cd4-e9fb-27eaf198be2e"
      },
      "source": [
        "print (country_gdp)"
      ],
      "execution_count": 0,
      "outputs": [
        {
          "output_type": "stream",
          "text": [
            "Algeria        2255.225482\n",
            "Angola          629.955306\n",
            "Argentina     11601.630220\n",
            "Australia     25306.824940\n",
            "Austria       27266.403350\n",
            "Bahamas       19466.990520\n",
            "Bangladesh      588.369178\n",
            "Belarus        2890.345675\n",
            "Belgium       24733.626960\n",
            "Bhutan         1445.760002\n",
            "Brazil         4803.398244\n",
            "Bulgaria       2618.876037\n",
            "Cambodia        590.452112\n",
            "Cameroon        665.798233\n",
            "Chile          7122.938458\n",
            "China          2639.541560\n",
            "Colombia       3362.465600\n",
            "Cyprus        15378.167040\n",
            "Denmark       30860.128080\n",
            "dtype: float64\n"
          ],
          "name": "stdout"
        }
      ]
    },
    {
      "cell_type": "code",
      "metadata": {
        "collapsed": true,
        "id": "XlVZsm_p9my7",
        "colab_type": "code",
        "colab": {},
        "outputId": "ed51b887-f46b-4fc8-9ea0-80bc700f086f"
      },
      "source": [
        "# Series for countries and their gdp\n",
        "country_gdp = pd.Series([2255.225482,629.9553062,11601.63022,25306.82494,27266.40335,19466.99052,588.3691778,2890.345675,\n",
        "                           24733.62696,1445.760002,4803.398244,2618.876037,590.4521124,665.7982328,7122.938458,2639.54156,\n",
        "                           3362.4656,15378.16704,30860.12808], \n",
        "                             index = ['Algeria','Angola','Argentina','Australia','Austria','Bahamas','Bangladesh','Belarus',\n",
        "                                      'Belgium','Bhutan','Brazil','Bulgaria','Cambodia','Cameroon','Chile','China','Colombia',\n",
        "                                      'Cyprus','Denmark', 'india'])\n"
      ],
      "execution_count": 0,
      "outputs": [
        {
          "output_type": "error",
          "ename": "ValueError",
          "evalue": "Length of passed values is 19, index implies 20",
          "traceback": [
            "\u001b[1;31m---------------------------------------------------------------------------\u001b[0m",
            "\u001b[1;31mValueError\u001b[0m                                Traceback (most recent call last)",
            "\u001b[1;32m<ipython-input-21-a58cefeaf813>\u001b[0m in \u001b[0;36m<module>\u001b[1;34m()\u001b[0m\n\u001b[0;32m      5\u001b[0m                              index = ['Algeria','Angola','Argentina','Australia','Austria','Bahamas','Bangladesh','Belarus',\n\u001b[0;32m      6\u001b[0m                                       \u001b[1;34m'Belgium'\u001b[0m\u001b[1;33m,\u001b[0m\u001b[1;34m'Bhutan'\u001b[0m\u001b[1;33m,\u001b[0m\u001b[1;34m'Brazil'\u001b[0m\u001b[1;33m,\u001b[0m\u001b[1;34m'Bulgaria'\u001b[0m\u001b[1;33m,\u001b[0m\u001b[1;34m'Cambodia'\u001b[0m\u001b[1;33m,\u001b[0m\u001b[1;34m'Cameroon'\u001b[0m\u001b[1;33m,\u001b[0m\u001b[1;34m'Chile'\u001b[0m\u001b[1;33m,\u001b[0m\u001b[1;34m'China'\u001b[0m\u001b[1;33m,\u001b[0m\u001b[1;34m'Colombia'\u001b[0m\u001b[1;33m,\u001b[0m\u001b[1;33m\u001b[0m\u001b[0m\n\u001b[1;32m----> 7\u001b[1;33m                                       'Cyprus','Denmark', 'india'])\n\u001b[0m",
            "\u001b[1;32mL:\\Anaconda3\\lib\\site-packages\\pandas\\core\\series.py\u001b[0m in \u001b[0;36m__init__\u001b[1;34m(self, data, index, dtype, name, copy, fastpath)\u001b[0m\n\u001b[0;32m    260\u001b[0m                             \u001b[1;34m'Length of passed values is {val}, '\u001b[0m\u001b[1;33m\u001b[0m\u001b[0m\n\u001b[0;32m    261\u001b[0m                             \u001b[1;34m'index implies {ind}'\u001b[0m\u001b[1;33m\u001b[0m\u001b[0m\n\u001b[1;32m--> 262\u001b[1;33m                             .format(val=len(data), ind=len(index)))\n\u001b[0m\u001b[0;32m    263\u001b[0m                 \u001b[1;32mexcept\u001b[0m \u001b[0mTypeError\u001b[0m\u001b[1;33m:\u001b[0m\u001b[1;33m\u001b[0m\u001b[0m\n\u001b[0;32m    264\u001b[0m                     \u001b[1;32mpass\u001b[0m\u001b[1;33m\u001b[0m\u001b[0m\n",
            "\u001b[1;31mValueError\u001b[0m: Length of passed values is 19, index implies 20"
          ]
        }
      ]
    },
    {
      "cell_type": "markdown",
      "metadata": {
        "id": "If7boqEY9my9",
        "colab_type": "text"
      },
      "source": [
        "### Scalar\n",
        "\n",
        "Scalar data is another way to create Series. It is a stand-alone quantity and works with both vector and scalar datasets that can be used accordingly.\n"
      ]
    },
    {
      "cell_type": "code",
      "metadata": {
        "id": "jlIHo2Im9my-",
        "colab_type": "code",
        "colab": {},
        "outputId": "cb90a3c5-3265-4336-af0c-eb6116fa5974"
      },
      "source": [
        "scalar_series = pd.Series(5., index=['a','b','c','d','e'])\n",
        "print (scalar_series)"
      ],
      "execution_count": 0,
      "outputs": [
        {
          "output_type": "stream",
          "text": [
            "a    5.0\n",
            "b    5.0\n",
            "c    5.0\n",
            "d    5.0\n",
            "e    5.0\n",
            "dtype: float64\n"
          ],
          "name": "stdout"
        }
      ]
    },
    {
      "cell_type": "markdown",
      "metadata": {
        "id": "XJSpEncg9mzA",
        "colab_type": "text"
      },
      "source": [
        "## Accessing Elements in Series"
      ]
    },
    {
      "cell_type": "code",
      "metadata": {
        "id": "C0tmWA8I9mzA",
        "colab_type": "code",
        "colab": {}
      },
      "source": [
        "# dict for countries and their gdp\n",
        "country_gdp = pd.Series([2255.225482,629.9553062,11601.63022,25306.82494,27266.40335,19466.99052,588.3691778,2890.345675,\n",
        "                           24733.62696,1445.760002,4803.398244,2618.876037,590.4521124,665.7982328,7122.938458,2639.54156,\n",
        "                           3362.4656,15378.16704,30860.12808], \n",
        "                             index = ['Algeria','Angola','Argentina','Australia','Austria','Bahamas','Bangladesh','Belarus',\n",
        "                                      'Belgium','Bhutan','Brazil','Bulgaria','Cambodia','Cameroon','Chile','China','Colombia',\n",
        "                                      'Cyprus','Denmark'])"
      ],
      "execution_count": 0,
      "outputs": []
    },
    {
      "cell_type": "code",
      "metadata": {
        "collapsed": true,
        "id": "EAr8l8jl9mzC",
        "colab_type": "code",
        "colab": {},
        "outputId": "4cf30c5b-155e-4e0b-dae4-d0eb7ea7810a"
      },
      "source": [
        "country_gdp"
      ],
      "execution_count": 0,
      "outputs": [
        {
          "output_type": "execute_result",
          "data": {
            "text/plain": [
              "Algeria        2255.225482\n",
              "Angola          629.955306\n",
              "Argentina     11601.630220\n",
              "Australia     25306.824940\n",
              "Austria       27266.403350\n",
              "Bahamas       19466.990520\n",
              "Bangladesh      588.369178\n",
              "Belarus        2890.345675\n",
              "Belgium       24733.626960\n",
              "Bhutan         1445.760002\n",
              "Brazil         4803.398244\n",
              "Bulgaria       2618.876037\n",
              "Cambodia        590.452112\n",
              "Cameroon        665.798233\n",
              "Chile          7122.938458\n",
              "China          2639.541560\n",
              "Colombia       3362.465600\n",
              "Cyprus        15378.167040\n",
              "Denmark       30860.128080\n",
              "dtype: float64"
            ]
          },
          "metadata": {
            "tags": []
          },
          "execution_count": 22
        }
      ]
    },
    {
      "cell_type": "code",
      "metadata": {
        "id": "fU4d7aXV9mzF",
        "colab_type": "code",
        "colab": {},
        "outputId": "49b6a11d-d59f-418d-df56-f6f04ffad6d3"
      },
      "source": [
        "country_gdp[0]"
      ],
      "execution_count": 0,
      "outputs": [
        {
          "output_type": "execute_result",
          "data": {
            "text/plain": [
              "2255.225482"
            ]
          },
          "metadata": {
            "tags": []
          },
          "execution_count": 27
        }
      ]
    },
    {
      "cell_type": "code",
      "metadata": {
        "id": "thfJ8Nb19mzH",
        "colab_type": "code",
        "colab": {},
        "outputId": "d9166a0b-6fce-411a-b9af-be7dc1f312f0"
      },
      "source": [
        "country_gdp[0:5]"
      ],
      "execution_count": 0,
      "outputs": [
        {
          "output_type": "execute_result",
          "data": {
            "text/plain": [
              "Algeria       2255.225482\n",
              "Angola         629.955306\n",
              "Argentina    11601.630220\n",
              "Australia    25306.824940\n",
              "Austria      27266.403350\n",
              "dtype: float64"
            ]
          },
          "metadata": {
            "tags": []
          },
          "execution_count": 24
        }
      ]
    },
    {
      "cell_type": "code",
      "metadata": {
        "scrolled": true,
        "id": "rg7rrYtK9mzL",
        "colab_type": "code",
        "colab": {},
        "outputId": "11d9bd59-5588-43b6-b955-96dbfa39cc49"
      },
      "source": [
        "# pass the country name in the argument and it will return gdp per capita for the \n",
        "# country. This method is used to access elements through index values.\n",
        "\n",
        "country_gdp['Bulgaria': 'Denmark']"
      ],
      "execution_count": 0,
      "outputs": [
        {
          "output_type": "execute_result",
          "data": {
            "text/plain": [
              "Bulgaria     2618.876037\n",
              "Cambodia      590.452112\n",
              "Cameroon      665.798233\n",
              "Chile        7122.938458\n",
              "China        2639.541560\n",
              "Colombia     3362.465600\n",
              "Cyprus      15378.167040\n",
              "Denmark     30860.128080\n",
              "dtype: float64"
            ]
          },
          "metadata": {
            "tags": []
          },
          "execution_count": 28
        }
      ]
    },
    {
      "cell_type": "code",
      "metadata": {
        "id": "mLl7GdGR9mzP",
        "colab_type": "code",
        "colab": {},
        "outputId": "4b6a7909-df6b-4ba1-b832-239d89ca6d80"
      },
      "source": [
        "country_gdp[country_gdp > 3000]"
      ],
      "execution_count": 0,
      "outputs": [
        {
          "output_type": "execute_result",
          "data": {
            "text/plain": [
              "Argentina    11601.630220\n",
              "Australia    25306.824940\n",
              "Austria      27266.403350\n",
              "Bahamas      19466.990520\n",
              "Belgium      24733.626960\n",
              "Brazil        4803.398244\n",
              "Chile         7122.938458\n",
              "Colombia      3362.465600\n",
              "Cyprus       15378.167040\n",
              "Denmark      30860.128080\n",
              "dtype: float64"
            ]
          },
          "metadata": {
            "tags": []
          },
          "execution_count": 29
        }
      ]
    },
    {
      "cell_type": "code",
      "metadata": {
        "collapsed": true,
        "id": "E0nZEXzs9mzS",
        "colab_type": "code",
        "colab": {},
        "outputId": "5fac0769-ff18-4f4a-80fb-99ff3f14d21c"
      },
      "source": [
        "country_gdp = pd.Series(gdp = [2255.225482,629.9553062,11601.63022,25306.82494,27266.40335,19466.99052,588.3691778,2890.345675,\n",
        "                           24733.62696,1445.760002,4803.398244,2618.876037,590.4521124,665.7982328,7122.938458,2639.54156,\n",
        "                           3362.4656,15378.16704,30860.12808], \n",
        "                             index = ['Algeria','Angola','Argentina','Australia','Austria','Bahamas','Bangladesh','Belarus',\n",
        "                                      'Belgium','Bhutan','Brazil','Bulgaria','Cambodia','Cameroon','Chile','China','Colombia',\n",
        "                                      'Cyprus','Denmark'])\n",
        "\n",
        "country_gdp"
      ],
      "execution_count": 0,
      "outputs": [
        {
          "output_type": "error",
          "ename": "TypeError",
          "evalue": "__init__() got an unexpected keyword argument 'gdp'",
          "traceback": [
            "\u001b[1;31m---------------------------------------------------------------------------\u001b[0m",
            "\u001b[1;31mTypeError\u001b[0m                                 Traceback (most recent call last)",
            "\u001b[1;32m<ipython-input-30-303e5dd5c655>\u001b[0m in \u001b[0;36m<module>\u001b[1;34m()\u001b[0m\n\u001b[0;32m      4\u001b[0m                              index = ['Algeria','Angola','Argentina','Australia','Austria','Bahamas','Bangladesh','Belarus',\n\u001b[0;32m      5\u001b[0m                                       \u001b[1;34m'Belgium'\u001b[0m\u001b[1;33m,\u001b[0m\u001b[1;34m'Bhutan'\u001b[0m\u001b[1;33m,\u001b[0m\u001b[1;34m'Brazil'\u001b[0m\u001b[1;33m,\u001b[0m\u001b[1;34m'Bulgaria'\u001b[0m\u001b[1;33m,\u001b[0m\u001b[1;34m'Cambodia'\u001b[0m\u001b[1;33m,\u001b[0m\u001b[1;34m'Cameroon'\u001b[0m\u001b[1;33m,\u001b[0m\u001b[1;34m'Chile'\u001b[0m\u001b[1;33m,\u001b[0m\u001b[1;34m'China'\u001b[0m\u001b[1;33m,\u001b[0m\u001b[1;34m'Colombia'\u001b[0m\u001b[1;33m,\u001b[0m\u001b[1;33m\u001b[0m\u001b[0m\n\u001b[1;32m----> 6\u001b[1;33m                                       'Cyprus','Denmark'])\n\u001b[0m\u001b[0;32m      7\u001b[0m \u001b[1;33m\u001b[0m\u001b[0m\n\u001b[0;32m      8\u001b[0m \u001b[0mcountry_gdp\u001b[0m\u001b[1;33m\u001b[0m\u001b[0m\n",
            "\u001b[1;31mTypeError\u001b[0m: __init__() got an unexpected keyword argument 'gdp'"
          ]
        }
      ]
    },
    {
      "cell_type": "code",
      "metadata": {
        "collapsed": true,
        "id": "lcP7v4QL9mzV",
        "colab_type": "code",
        "colab": {},
        "outputId": "4e43261b-28e7-4472-8a9c-750af53c8283"
      },
      "source": [
        "country_gdp['Bulgaria': 5] # either with indices or with names"
      ],
      "execution_count": 0,
      "outputs": [
        {
          "output_type": "error",
          "ename": "TypeError",
          "evalue": "cannot do slice indexing on <class 'pandas.core.indexes.base.Index'> with these indexers [5] of <class 'int'>",
          "traceback": [
            "\u001b[1;31m---------------------------------------------------------------------------\u001b[0m",
            "\u001b[1;31mTypeError\u001b[0m                                 Traceback (most recent call last)",
            "\u001b[1;32m<ipython-input-32-49fb5e315ed2>\u001b[0m in \u001b[0;36m<module>\u001b[1;34m()\u001b[0m\n\u001b[1;32m----> 1\u001b[1;33m \u001b[0mcountry_gdp\u001b[0m\u001b[1;33m[\u001b[0m\u001b[1;34m'Bulgaria'\u001b[0m\u001b[1;33m:\u001b[0m \u001b[1;36m5\u001b[0m\u001b[1;33m]\u001b[0m\u001b[1;33m\u001b[0m\u001b[0m\n\u001b[0m",
            "\u001b[1;32mL:\\Anaconda3\\lib\\site-packages\\pandas\\core\\series.py\u001b[0m in \u001b[0;36m__getitem__\u001b[1;34m(self, key)\u001b[0m\n\u001b[0;32m    808\u001b[0m             \u001b[0mkey\u001b[0m \u001b[1;33m=\u001b[0m \u001b[0mcheck_bool_indexer\u001b[0m\u001b[1;33m(\u001b[0m\u001b[0mself\u001b[0m\u001b[1;33m.\u001b[0m\u001b[0mindex\u001b[0m\u001b[1;33m,\u001b[0m \u001b[0mkey\u001b[0m\u001b[1;33m)\u001b[0m\u001b[1;33m\u001b[0m\u001b[0m\n\u001b[0;32m    809\u001b[0m \u001b[1;33m\u001b[0m\u001b[0m\n\u001b[1;32m--> 810\u001b[1;33m         \u001b[1;32mreturn\u001b[0m \u001b[0mself\u001b[0m\u001b[1;33m.\u001b[0m\u001b[0m_get_with\u001b[0m\u001b[1;33m(\u001b[0m\u001b[0mkey\u001b[0m\u001b[1;33m)\u001b[0m\u001b[1;33m\u001b[0m\u001b[0m\n\u001b[0m\u001b[0;32m    811\u001b[0m \u001b[1;33m\u001b[0m\u001b[0m\n\u001b[0;32m    812\u001b[0m     \u001b[1;32mdef\u001b[0m \u001b[0m_get_with\u001b[0m\u001b[1;33m(\u001b[0m\u001b[0mself\u001b[0m\u001b[1;33m,\u001b[0m \u001b[0mkey\u001b[0m\u001b[1;33m)\u001b[0m\u001b[1;33m:\u001b[0m\u001b[1;33m\u001b[0m\u001b[0m\n",
            "\u001b[1;32mL:\\Anaconda3\\lib\\site-packages\\pandas\\core\\series.py\u001b[0m in \u001b[0;36m_get_with\u001b[1;34m(self, key)\u001b[0m\n\u001b[0;32m    813\u001b[0m         \u001b[1;31m# other: fancy integer or otherwise\u001b[0m\u001b[1;33m\u001b[0m\u001b[1;33m\u001b[0m\u001b[0m\n\u001b[0;32m    814\u001b[0m         \u001b[1;32mif\u001b[0m \u001b[0misinstance\u001b[0m\u001b[1;33m(\u001b[0m\u001b[0mkey\u001b[0m\u001b[1;33m,\u001b[0m \u001b[0mslice\u001b[0m\u001b[1;33m)\u001b[0m\u001b[1;33m:\u001b[0m\u001b[1;33m\u001b[0m\u001b[0m\n\u001b[1;32m--> 815\u001b[1;33m             \u001b[0mindexer\u001b[0m \u001b[1;33m=\u001b[0m \u001b[0mself\u001b[0m\u001b[1;33m.\u001b[0m\u001b[0mindex\u001b[0m\u001b[1;33m.\u001b[0m\u001b[0m_convert_slice_indexer\u001b[0m\u001b[1;33m(\u001b[0m\u001b[0mkey\u001b[0m\u001b[1;33m,\u001b[0m \u001b[0mkind\u001b[0m\u001b[1;33m=\u001b[0m\u001b[1;34m'getitem'\u001b[0m\u001b[1;33m)\u001b[0m\u001b[1;33m\u001b[0m\u001b[0m\n\u001b[0m\u001b[0;32m    816\u001b[0m             \u001b[1;32mreturn\u001b[0m \u001b[0mself\u001b[0m\u001b[1;33m.\u001b[0m\u001b[0m_get_values\u001b[0m\u001b[1;33m(\u001b[0m\u001b[0mindexer\u001b[0m\u001b[1;33m)\u001b[0m\u001b[1;33m\u001b[0m\u001b[0m\n\u001b[0;32m    817\u001b[0m         \u001b[1;32melif\u001b[0m \u001b[0misinstance\u001b[0m\u001b[1;33m(\u001b[0m\u001b[0mkey\u001b[0m\u001b[1;33m,\u001b[0m \u001b[0mABCDataFrame\u001b[0m\u001b[1;33m)\u001b[0m\u001b[1;33m:\u001b[0m\u001b[1;33m\u001b[0m\u001b[0m\n",
            "\u001b[1;32mL:\\Anaconda3\\lib\\site-packages\\pandas\\core\\indexes\\base.py\u001b[0m in \u001b[0;36m_convert_slice_indexer\u001b[1;34m(self, key, kind)\u001b[0m\n\u001b[0;32m   1749\u001b[0m         \u001b[1;32melse\u001b[0m\u001b[1;33m:\u001b[0m\u001b[1;33m\u001b[0m\u001b[0m\n\u001b[0;32m   1750\u001b[0m             \u001b[1;32mtry\u001b[0m\u001b[1;33m:\u001b[0m\u001b[1;33m\u001b[0m\u001b[0m\n\u001b[1;32m-> 1751\u001b[1;33m                 \u001b[0mindexer\u001b[0m \u001b[1;33m=\u001b[0m \u001b[0mself\u001b[0m\u001b[1;33m.\u001b[0m\u001b[0mslice_indexer\u001b[0m\u001b[1;33m(\u001b[0m\u001b[0mstart\u001b[0m\u001b[1;33m,\u001b[0m \u001b[0mstop\u001b[0m\u001b[1;33m,\u001b[0m \u001b[0mstep\u001b[0m\u001b[1;33m,\u001b[0m \u001b[0mkind\u001b[0m\u001b[1;33m=\u001b[0m\u001b[0mkind\u001b[0m\u001b[1;33m)\u001b[0m\u001b[1;33m\u001b[0m\u001b[0m\n\u001b[0m\u001b[0;32m   1752\u001b[0m             \u001b[1;32mexcept\u001b[0m \u001b[0mException\u001b[0m\u001b[1;33m:\u001b[0m\u001b[1;33m\u001b[0m\u001b[0m\n\u001b[0;32m   1753\u001b[0m                 \u001b[1;32mif\u001b[0m \u001b[0mis_index_slice\u001b[0m\u001b[1;33m:\u001b[0m\u001b[1;33m\u001b[0m\u001b[0m\n",
            "\u001b[1;32mL:\\Anaconda3\\lib\\site-packages\\pandas\\core\\indexes\\base.py\u001b[0m in \u001b[0;36mslice_indexer\u001b[1;34m(self, start, end, step, kind)\u001b[0m\n\u001b[0;32m   4105\u001b[0m         \"\"\"\n\u001b[0;32m   4106\u001b[0m         start_slice, end_slice = self.slice_locs(start, end, step=step,\n\u001b[1;32m-> 4107\u001b[1;33m                                                  kind=kind)\n\u001b[0m\u001b[0;32m   4108\u001b[0m \u001b[1;33m\u001b[0m\u001b[0m\n\u001b[0;32m   4109\u001b[0m         \u001b[1;31m# return a slice\u001b[0m\u001b[1;33m\u001b[0m\u001b[1;33m\u001b[0m\u001b[0m\n",
            "\u001b[1;32mL:\\Anaconda3\\lib\\site-packages\\pandas\\core\\indexes\\base.py\u001b[0m in \u001b[0;36mslice_locs\u001b[1;34m(self, start, end, step, kind)\u001b[0m\n\u001b[0;32m   4312\u001b[0m         \u001b[0mend_slice\u001b[0m \u001b[1;33m=\u001b[0m \u001b[1;32mNone\u001b[0m\u001b[1;33m\u001b[0m\u001b[0m\n\u001b[0;32m   4313\u001b[0m         \u001b[1;32mif\u001b[0m \u001b[0mend\u001b[0m \u001b[1;32mis\u001b[0m \u001b[1;32mnot\u001b[0m \u001b[1;32mNone\u001b[0m\u001b[1;33m:\u001b[0m\u001b[1;33m\u001b[0m\u001b[0m\n\u001b[1;32m-> 4314\u001b[1;33m             \u001b[0mend_slice\u001b[0m \u001b[1;33m=\u001b[0m \u001b[0mself\u001b[0m\u001b[1;33m.\u001b[0m\u001b[0mget_slice_bound\u001b[0m\u001b[1;33m(\u001b[0m\u001b[0mend\u001b[0m\u001b[1;33m,\u001b[0m \u001b[1;34m'right'\u001b[0m\u001b[1;33m,\u001b[0m \u001b[0mkind\u001b[0m\u001b[1;33m)\u001b[0m\u001b[1;33m\u001b[0m\u001b[0m\n\u001b[0m\u001b[0;32m   4315\u001b[0m         \u001b[1;32mif\u001b[0m \u001b[0mend_slice\u001b[0m \u001b[1;32mis\u001b[0m \u001b[1;32mNone\u001b[0m\u001b[1;33m:\u001b[0m\u001b[1;33m\u001b[0m\u001b[0m\n\u001b[0;32m   4316\u001b[0m             \u001b[0mend_slice\u001b[0m \u001b[1;33m=\u001b[0m \u001b[0mlen\u001b[0m\u001b[1;33m(\u001b[0m\u001b[0mself\u001b[0m\u001b[1;33m)\u001b[0m\u001b[1;33m\u001b[0m\u001b[0m\n",
            "\u001b[1;32mL:\\Anaconda3\\lib\\site-packages\\pandas\\core\\indexes\\base.py\u001b[0m in \u001b[0;36mget_slice_bound\u001b[1;34m(self, label, side, kind)\u001b[0m\n\u001b[0;32m   4232\u001b[0m         \u001b[1;31m# For datetime indices label may be a string that has to be converted\u001b[0m\u001b[1;33m\u001b[0m\u001b[1;33m\u001b[0m\u001b[0m\n\u001b[0;32m   4233\u001b[0m         \u001b[1;31m# to datetime boundary according to its resolution.\u001b[0m\u001b[1;33m\u001b[0m\u001b[1;33m\u001b[0m\u001b[0m\n\u001b[1;32m-> 4234\u001b[1;33m         \u001b[0mlabel\u001b[0m \u001b[1;33m=\u001b[0m \u001b[0mself\u001b[0m\u001b[1;33m.\u001b[0m\u001b[0m_maybe_cast_slice_bound\u001b[0m\u001b[1;33m(\u001b[0m\u001b[0mlabel\u001b[0m\u001b[1;33m,\u001b[0m \u001b[0mside\u001b[0m\u001b[1;33m,\u001b[0m \u001b[0mkind\u001b[0m\u001b[1;33m)\u001b[0m\u001b[1;33m\u001b[0m\u001b[0m\n\u001b[0m\u001b[0;32m   4235\u001b[0m \u001b[1;33m\u001b[0m\u001b[0m\n\u001b[0;32m   4236\u001b[0m         \u001b[1;31m# we need to look up the label\u001b[0m\u001b[1;33m\u001b[0m\u001b[1;33m\u001b[0m\u001b[0m\n",
            "\u001b[1;32mL:\\Anaconda3\\lib\\site-packages\\pandas\\core\\indexes\\base.py\u001b[0m in \u001b[0;36m_maybe_cast_slice_bound\u001b[1;34m(self, label, side, kind)\u001b[0m\n\u001b[0;32m   4183\u001b[0m         \u001b[1;31m# this is rejected (generally .loc gets you here)\u001b[0m\u001b[1;33m\u001b[0m\u001b[1;33m\u001b[0m\u001b[0m\n\u001b[0;32m   4184\u001b[0m         \u001b[1;32melif\u001b[0m \u001b[0mis_integer\u001b[0m\u001b[1;33m(\u001b[0m\u001b[0mlabel\u001b[0m\u001b[1;33m)\u001b[0m\u001b[1;33m:\u001b[0m\u001b[1;33m\u001b[0m\u001b[0m\n\u001b[1;32m-> 4185\u001b[1;33m             \u001b[0mself\u001b[0m\u001b[1;33m.\u001b[0m\u001b[0m_invalid_indexer\u001b[0m\u001b[1;33m(\u001b[0m\u001b[1;34m'slice'\u001b[0m\u001b[1;33m,\u001b[0m \u001b[0mlabel\u001b[0m\u001b[1;33m)\u001b[0m\u001b[1;33m\u001b[0m\u001b[0m\n\u001b[0m\u001b[0;32m   4186\u001b[0m \u001b[1;33m\u001b[0m\u001b[0m\n\u001b[0;32m   4187\u001b[0m         \u001b[1;32mreturn\u001b[0m \u001b[0mlabel\u001b[0m\u001b[1;33m\u001b[0m\u001b[0m\n",
            "\u001b[1;32mL:\\Anaconda3\\lib\\site-packages\\pandas\\core\\indexes\\base.py\u001b[0m in \u001b[0;36m_invalid_indexer\u001b[1;34m(self, form, key)\u001b[0m\n\u001b[0;32m   1861\u001b[0m                         \"indexers [{key}] of {kind}\".format(\n\u001b[0;32m   1862\u001b[0m                             \u001b[0mform\u001b[0m\u001b[1;33m=\u001b[0m\u001b[0mform\u001b[0m\u001b[1;33m,\u001b[0m \u001b[0mklass\u001b[0m\u001b[1;33m=\u001b[0m\u001b[0mtype\u001b[0m\u001b[1;33m(\u001b[0m\u001b[0mself\u001b[0m\u001b[1;33m)\u001b[0m\u001b[1;33m,\u001b[0m \u001b[0mkey\u001b[0m\u001b[1;33m=\u001b[0m\u001b[0mkey\u001b[0m\u001b[1;33m,\u001b[0m\u001b[1;33m\u001b[0m\u001b[0m\n\u001b[1;32m-> 1863\u001b[1;33m                             kind=type(key)))\n\u001b[0m\u001b[0;32m   1864\u001b[0m \u001b[1;33m\u001b[0m\u001b[0m\n\u001b[0;32m   1865\u001b[0m     \u001b[1;32mdef\u001b[0m \u001b[0mget_duplicates\u001b[0m\u001b[1;33m(\u001b[0m\u001b[0mself\u001b[0m\u001b[1;33m)\u001b[0m\u001b[1;33m:\u001b[0m\u001b[1;33m\u001b[0m\u001b[0m\n",
            "\u001b[1;31mTypeError\u001b[0m: cannot do slice indexing on <class 'pandas.core.indexes.base.Index'> with these indexers [5] of <class 'int'>"
          ]
        }
      ]
    },
    {
      "cell_type": "markdown",
      "metadata": {
        "id": "YfTxY2kj9mzY",
        "colab_type": "text"
      },
      "source": [
        "## Vectorized operations\n",
        "\n",
        "Vectorized operations show you how you can add two or more series. The vector operations are essentially performed by the index positions of data elements.\n",
        "\n",
        "The first example shows how the two series, ‘first_vector_series’ and ‘second_vector_series’ are added and this is done at index level. "
      ]
    },
    {
      "cell_type": "code",
      "metadata": {
        "id": "zXOwIRkW9mzY",
        "colab_type": "code",
        "colab": {}
      },
      "source": [
        "first_vector_series = pd.Series([1,2,3,4], index = ['a','b','c','d']) \n",
        "second_vector_series = pd.Series([10,20,30,40], index = ['a','b','c','d'])"
      ],
      "execution_count": 0,
      "outputs": []
    },
    {
      "cell_type": "code",
      "metadata": {
        "id": "LJJgR34p9mza",
        "colab_type": "code",
        "colab": {},
        "outputId": "2fdec62a-4ca8-434f-b38f-d25257887e3f"
      },
      "source": [
        "print (first_vector_series)\n",
        "print (second_vector_series)"
      ],
      "execution_count": 0,
      "outputs": [
        {
          "output_type": "stream",
          "text": [
            "a    1\n",
            "b    2\n",
            "c    3\n",
            "d    4\n",
            "dtype: int64\n",
            "a    10\n",
            "b    20\n",
            "c    30\n",
            "d    40\n",
            "dtype: int64\n"
          ],
          "name": "stdout"
        }
      ]
    },
    {
      "cell_type": "code",
      "metadata": {
        "id": "TIefYb4v9mzb",
        "colab_type": "code",
        "colab": {},
        "outputId": "d14a73d9-58a5-4898-850f-2ab508738b3a"
      },
      "source": [
        "print (first_vector_series + second_vector_series)"
      ],
      "execution_count": 0,
      "outputs": [
        {
          "output_type": "stream",
          "text": [
            "a    11\n",
            "b    22\n",
            "c    33\n",
            "d    44\n",
            "dtype: int64\n"
          ],
          "name": "stdout"
        }
      ]
    },
    {
      "cell_type": "markdown",
      "metadata": {
        "id": "fiEfg3lW9mzf",
        "colab_type": "text"
      },
      "source": [
        "Let’s shuffle indices and see what happens. For the second vector series, we change the values of indices a, d, b, and c. Thus, when we add the two vector series, we get a different output as the data element is bound to the index position. \n",
        "\n",
        "\n"
      ]
    },
    {
      "cell_type": "code",
      "metadata": {
        "id": "qFS5cFjL9mzf",
        "colab_type": "code",
        "colab": {},
        "outputId": "12938c17-4cb7-4c4e-b422-0ba828b3932c"
      },
      "source": [
        "first_vector_series = pd.Series([1,2,3,4], index = ['a','b','c','d']) \n",
        "second_vector_series = pd.Series([10,20,30,40], index = ['c','a','d','b'])\n",
        "\n",
        "print (first_vector_series)\n",
        "print (second_vector_series)"
      ],
      "execution_count": 0,
      "outputs": [
        {
          "output_type": "stream",
          "text": [
            "a    1\n",
            "b    2\n",
            "c    3\n",
            "d    4\n",
            "dtype: int64\n",
            "c    10\n",
            "a    20\n",
            "d    30\n",
            "b    40\n",
            "dtype: int64\n"
          ],
          "name": "stdout"
        }
      ]
    },
    {
      "cell_type": "code",
      "metadata": {
        "id": "C6av4hID9mzh",
        "colab_type": "code",
        "colab": {},
        "outputId": "e16dffba-a6f8-4c4f-b75c-f7aba2c1d05f"
      },
      "source": [
        "print (first_vector_series + second_vector_series)"
      ],
      "execution_count": 0,
      "outputs": [
        {
          "output_type": "stream",
          "text": [
            "a    21\n",
            "b    42\n",
            "c    13\n",
            "d    34\n",
            "dtype: int64\n"
          ],
          "name": "stdout"
        }
      ]
    },
    {
      "cell_type": "code",
      "metadata": {
        "id": "17e_I9es9mzj",
        "colab_type": "code",
        "colab": {},
        "outputId": "51161408-bc86-4426-e2f5-80463ca167c6"
      },
      "source": [
        "first_vector_series = pd.Series([1,2,3,4], index = ['a','b','c','d']) \n",
        "second_vector_series = pd.Series([10,20,30,40], index = ['a','b','e','f'])\n",
        "\n",
        "print (first_vector_series)\n",
        "print (second_vector_series)"
      ],
      "execution_count": 0,
      "outputs": [
        {
          "output_type": "stream",
          "text": [
            "a    1\n",
            "b    2\n",
            "c    3\n",
            "d    4\n",
            "dtype: int64\n",
            "a    10\n",
            "b    20\n",
            "e    30\n",
            "f    40\n",
            "dtype: int64\n"
          ],
          "name": "stdout"
        }
      ]
    },
    {
      "cell_type": "code",
      "metadata": {
        "id": "dTagiLN69mzl",
        "colab_type": "code",
        "colab": {},
        "outputId": "31ffaba8-01c2-46f3-81b3-aa76dbd20b35"
      },
      "source": [
        "print (first_vector_series + second_vector_series)"
      ],
      "execution_count": 0,
      "outputs": [
        {
          "output_type": "stream",
          "text": [
            "a    11.0\n",
            "b    22.0\n",
            "c     NaN\n",
            "d     NaN\n",
            "e     NaN\n",
            "f     NaN\n",
            "dtype: float64\n"
          ],
          "name": "stdout"
        }
      ]
    },
    {
      "cell_type": "markdown",
      "metadata": {
        "id": "dY3gf7Bg9mzn",
        "colab_type": "text"
      },
      "source": [
        "# Dataframes\n",
        "\n",
        "DataFrame is another core feature of the Pandas data structure.\n",
        "\n",
        "DataFrame is a two-dimensional labeled data structure with columns of potentially different data types.\n",
        "\n",
        "A DataFrame looks like a spreadsheet with a row-columnar structure or a SQL data table with rows and columns.\n",
        "\n",
        "There can be several inputs to the DataFrame and we’ll go through them in detail. Let’s have a quick overview of the data inputs:"
      ]
    },
    {
      "cell_type": "markdown",
      "metadata": {
        "id": "z6ThO1Rf9mzn",
        "colab_type": "text"
      },
      "source": [
        "## dict\n",
        "\n",
        "A Pandas DataFrame can also be created using dictionary of list. It is very efficient when it comes to indexing or reindexing a dataset for data wrangling purposes. "
      ]
    },
    {
      "cell_type": "markdown",
      "metadata": {
        "id": "X5tZk3E59mzp",
        "colab_type": "text"
      },
      "source": [
        "In this example, we will create a dataset related to Summer Olympics. \n",
        "\n",
        "First, import the Pandas library. Then, declare a dict ‘Olympic_data_list’ and pass the indices ‘HostCity’, ‘No. of Participating Countries’, and ‘Year’ with its data elements as arguments.\n",
        "\n",
        "As you can observe, it is a tabular representation of data with rows and columns.\n",
        "Next, pass this list to the DataFrame method ‘pd.DataFrame’ to create a basic DataFrame.\n",
        "\n",
        "Note that data alignment is automatically taken care here. When we call this DataFrame ‘df_Olympic_data’, the output displays all the rows with its corresponding indices."
      ]
    },
    {
      "cell_type": "code",
      "metadata": {
        "id": "n_z2of3Y9mzp",
        "colab_type": "code",
        "colab": {},
        "outputId": "ebc22d20-cd7f-448c-bb0f-41ea1a6c3bdd"
      },
      "source": [
        "olympic_data = {'HostCity':['London', 'Beijing', 'Athens', 'Sydney', 'Atlanta'], 'Year': [2012,2008,2004,2000,1996],\n",
        "                    'No of Participating Countries': [205,205,201,200,197]}\n",
        "type(olympic_data)"
      ],
      "execution_count": 0,
      "outputs": [
        {
          "output_type": "execute_result",
          "data": {
            "text/plain": [
              "dict"
            ]
          },
          "metadata": {
            "tags": []
          },
          "execution_count": 40
        }
      ]
    },
    {
      "cell_type": "code",
      "metadata": {
        "id": "er3HMDF29mzs",
        "colab_type": "code",
        "colab": {},
        "outputId": "c095909d-2456-4c54-98eb-a945203de47f"
      },
      "source": [
        "df_olympic_data = pd.DataFrame(olympic_data)\n",
        "print (df_olympic_data)\n",
        "display (df_olympic_data)"
      ],
      "execution_count": 0,
      "outputs": [
        {
          "output_type": "stream",
          "text": [
            "  HostCity  Year  No of Participating Countries\n",
            "0   London  2012                            205\n",
            "1  Beijing  2008                            205\n",
            "2   Athens  2004                            201\n",
            "3   Sydney  2000                            200\n",
            "4  Atlanta  1996                            197\n"
          ],
          "name": "stdout"
        },
        {
          "output_type": "display_data",
          "data": {
            "text/html": [
              "<div>\n",
              "<style scoped>\n",
              "    .dataframe tbody tr th:only-of-type {\n",
              "        vertical-align: middle;\n",
              "    }\n",
              "\n",
              "    .dataframe tbody tr th {\n",
              "        vertical-align: top;\n",
              "    }\n",
              "\n",
              "    .dataframe thead th {\n",
              "        text-align: right;\n",
              "    }\n",
              "</style>\n",
              "<table border=\"1\" class=\"dataframe\">\n",
              "  <thead>\n",
              "    <tr style=\"text-align: right;\">\n",
              "      <th></th>\n",
              "      <th>HostCity</th>\n",
              "      <th>Year</th>\n",
              "      <th>No of Participating Countries</th>\n",
              "    </tr>\n",
              "  </thead>\n",
              "  <tbody>\n",
              "    <tr>\n",
              "      <th>0</th>\n",
              "      <td>London</td>\n",
              "      <td>2012</td>\n",
              "      <td>205</td>\n",
              "    </tr>\n",
              "    <tr>\n",
              "      <th>1</th>\n",
              "      <td>Beijing</td>\n",
              "      <td>2008</td>\n",
              "      <td>205</td>\n",
              "    </tr>\n",
              "    <tr>\n",
              "      <th>2</th>\n",
              "      <td>Athens</td>\n",
              "      <td>2004</td>\n",
              "      <td>201</td>\n",
              "    </tr>\n",
              "    <tr>\n",
              "      <th>3</th>\n",
              "      <td>Sydney</td>\n",
              "      <td>2000</td>\n",
              "      <td>200</td>\n",
              "    </tr>\n",
              "    <tr>\n",
              "      <th>4</th>\n",
              "      <td>Atlanta</td>\n",
              "      <td>1996</td>\n",
              "      <td>197</td>\n",
              "    </tr>\n",
              "  </tbody>\n",
              "</table>\n",
              "</div>"
            ],
            "text/plain": [
              "  HostCity  Year  No of Participating Countries\n",
              "0   London  2012                            205\n",
              "1  Beijing  2008                            205\n",
              "2   Athens  2004                            201\n",
              "3   Sydney  2000                            200\n",
              "4  Atlanta  1996                            197"
            ]
          },
          "metadata": {
            "tags": []
          }
        }
      ]
    },
    {
      "cell_type": "code",
      "metadata": {
        "collapsed": true,
        "id": "7F1YMvkU9mzu",
        "colab_type": "code",
        "colab": {},
        "outputId": "dfb7ef5b-e124-4b6b-e3e7-bc2c0f26d29b"
      },
      "source": [
        "# View a column\n",
        "\n",
        "df_olympic_data.HostCity"
      ],
      "execution_count": 0,
      "outputs": [
        {
          "output_type": "execute_result",
          "data": {
            "text/plain": [
              "0     London\n",
              "1    Beijing\n",
              "2     Athens\n",
              "3     Sydney\n",
              "4    Atlanta\n",
              "Name: HostCity, dtype: object"
            ]
          },
          "metadata": {
            "tags": []
          },
          "execution_count": 44
        }
      ]
    },
    {
      "cell_type": "code",
      "metadata": {
        "collapsed": true,
        "id": "6rDakSFf9mzw",
        "colab_type": "code",
        "colab": {},
        "outputId": "74e00bc4-6991-4fd7-ed23-b53d972d4a84"
      },
      "source": [
        "df_olympic_data[['HostCity']]"
      ],
      "execution_count": 0,
      "outputs": [
        {
          "output_type": "execute_result",
          "data": {
            "text/html": [
              "<div>\n",
              "<style scoped>\n",
              "    .dataframe tbody tr th:only-of-type {\n",
              "        vertical-align: middle;\n",
              "    }\n",
              "\n",
              "    .dataframe tbody tr th {\n",
              "        vertical-align: top;\n",
              "    }\n",
              "\n",
              "    .dataframe thead th {\n",
              "        text-align: right;\n",
              "    }\n",
              "</style>\n",
              "<table border=\"1\" class=\"dataframe\">\n",
              "  <thead>\n",
              "    <tr style=\"text-align: right;\">\n",
              "      <th></th>\n",
              "      <th>HostCity</th>\n",
              "    </tr>\n",
              "  </thead>\n",
              "  <tbody>\n",
              "    <tr>\n",
              "      <th>0</th>\n",
              "      <td>London</td>\n",
              "    </tr>\n",
              "    <tr>\n",
              "      <th>1</th>\n",
              "      <td>Beijing</td>\n",
              "    </tr>\n",
              "    <tr>\n",
              "      <th>2</th>\n",
              "      <td>Athens</td>\n",
              "    </tr>\n",
              "    <tr>\n",
              "      <th>3</th>\n",
              "      <td>Sydney</td>\n",
              "    </tr>\n",
              "    <tr>\n",
              "      <th>4</th>\n",
              "      <td>Atlanta</td>\n",
              "    </tr>\n",
              "  </tbody>\n",
              "</table>\n",
              "</div>"
            ],
            "text/plain": [
              "  HostCity\n",
              "0   London\n",
              "1  Beijing\n",
              "2   Athens\n",
              "3   Sydney\n",
              "4  Atlanta"
            ]
          },
          "metadata": {
            "tags": []
          },
          "execution_count": 45
        }
      ]
    },
    {
      "cell_type": "code",
      "metadata": {
        "collapsed": true,
        "id": "MAcdF06z9mzy",
        "colab_type": "code",
        "colab": {},
        "outputId": "7fae8ff9-23b1-41a2-bd43-93c99b39d554"
      },
      "source": [
        "df_olympic_data.No of Participating Countries"
      ],
      "execution_count": 0,
      "outputs": [
        {
          "output_type": "error",
          "ename": "SyntaxError",
          "evalue": "invalid syntax (<ipython-input-46-3c17888e4c21>, line 1)",
          "traceback": [
            "\u001b[1;36m  File \u001b[1;32m\"<ipython-input-46-3c17888e4c21>\"\u001b[1;36m, line \u001b[1;32m1\u001b[0m\n\u001b[1;33m    df_olympic_data.No of Participating Countries\u001b[0m\n\u001b[1;37m                        ^\u001b[0m\n\u001b[1;31mSyntaxError\u001b[0m\u001b[1;31m:\u001b[0m invalid syntax\n"
          ]
        }
      ]
    },
    {
      "cell_type": "code",
      "metadata": {
        "collapsed": true,
        "id": "kMMVDb6b9mz0",
        "colab_type": "code",
        "colab": {},
        "outputId": "cd31805e-ccc2-499a-d637-0885bcf1c0f7"
      },
      "source": [
        "df_olympic_data[['No of Participating Countries']]"
      ],
      "execution_count": 0,
      "outputs": [
        {
          "output_type": "execute_result",
          "data": {
            "text/html": [
              "<div>\n",
              "<style scoped>\n",
              "    .dataframe tbody tr th:only-of-type {\n",
              "        vertical-align: middle;\n",
              "    }\n",
              "\n",
              "    .dataframe tbody tr th {\n",
              "        vertical-align: top;\n",
              "    }\n",
              "\n",
              "    .dataframe thead th {\n",
              "        text-align: right;\n",
              "    }\n",
              "</style>\n",
              "<table border=\"1\" class=\"dataframe\">\n",
              "  <thead>\n",
              "    <tr style=\"text-align: right;\">\n",
              "      <th></th>\n",
              "      <th>No of Participating Countries</th>\n",
              "    </tr>\n",
              "  </thead>\n",
              "  <tbody>\n",
              "    <tr>\n",
              "      <th>0</th>\n",
              "      <td>205</td>\n",
              "    </tr>\n",
              "    <tr>\n",
              "      <th>1</th>\n",
              "      <td>205</td>\n",
              "    </tr>\n",
              "    <tr>\n",
              "      <th>2</th>\n",
              "      <td>201</td>\n",
              "    </tr>\n",
              "    <tr>\n",
              "      <th>3</th>\n",
              "      <td>200</td>\n",
              "    </tr>\n",
              "    <tr>\n",
              "      <th>4</th>\n",
              "      <td>197</td>\n",
              "    </tr>\n",
              "  </tbody>\n",
              "</table>\n",
              "</div>"
            ],
            "text/plain": [
              "   No of Participating Countries\n",
              "0                            205\n",
              "1                            205\n",
              "2                            201\n",
              "3                            200\n",
              "4                            197"
            ]
          },
          "metadata": {
            "tags": []
          },
          "execution_count": 48
        }
      ]
    },
    {
      "cell_type": "markdown",
      "metadata": {
        "id": "qR28A0GL9mz3",
        "colab_type": "text"
      },
      "source": [
        "## dict of Series\n",
        "\n",
        "A dict of series can also be an input to a DataFrame. "
      ]
    },
    {
      "cell_type": "markdown",
      "metadata": {
        "id": "eVxfCshh9mz3",
        "colab_type": "text"
      },
      "source": [
        "Let’s learn how to create DataFrame from a dict of series.\n",
        "\n",
        "Let’s create two series first. The first series, ‘olympic_series_participation’, is for the number of countries participating for the given year. The second series, ‘olympic_series_country’, is for the cities which held the Olympics that year. \n",
        "Now, create a DataFrame ‘df_olympic_series’ and pass both the series as dicts in it. You can also assign column names in the DataFrame and manipulate the dataset as shown in this example. \n"
      ]
    },
    {
      "cell_type": "code",
      "metadata": {
        "id": "XALCkywr9mz3",
        "colab_type": "code",
        "colab": {}
      },
      "source": [
        "olympic_series_participation = pd.Series([205,205,201,200,197], index = [2012,2008,2004,2000,1996])\n",
        "olympic_series_countries = pd.Series(['London', 'Beijing', 'Athens', 'Sydney', 'Atlanta'], index = [2012,2008,2004,2000,1996])\n"
      ],
      "execution_count": 0,
      "outputs": []
    },
    {
      "cell_type": "code",
      "metadata": {
        "id": "TyQ4ZzYJ9mz5",
        "colab_type": "code",
        "colab": {},
        "outputId": "08b70c8c-5e1d-4177-e693-a02573f9e2ca"
      },
      "source": [
        "df_olympic_series = pd.DataFrame({'No. of Participating Countries':olympic_series_participation, \n",
        "                                  'HostCity': olympic_series_countries })\n",
        "df_olympic_series"
      ],
      "execution_count": 0,
      "outputs": [
        {
          "output_type": "execute_result",
          "data": {
            "text/html": [
              "<div>\n",
              "<style scoped>\n",
              "    .dataframe tbody tr th:only-of-type {\n",
              "        vertical-align: middle;\n",
              "    }\n",
              "\n",
              "    .dataframe tbody tr th {\n",
              "        vertical-align: top;\n",
              "    }\n",
              "\n",
              "    .dataframe thead th {\n",
              "        text-align: right;\n",
              "    }\n",
              "</style>\n",
              "<table border=\"1\" class=\"dataframe\">\n",
              "  <thead>\n",
              "    <tr style=\"text-align: right;\">\n",
              "      <th></th>\n",
              "      <th>No. of Participating Countries</th>\n",
              "      <th>HostCity</th>\n",
              "    </tr>\n",
              "  </thead>\n",
              "  <tbody>\n",
              "    <tr>\n",
              "      <th>2012</th>\n",
              "      <td>205</td>\n",
              "      <td>London</td>\n",
              "    </tr>\n",
              "    <tr>\n",
              "      <th>2008</th>\n",
              "      <td>205</td>\n",
              "      <td>Beijing</td>\n",
              "    </tr>\n",
              "    <tr>\n",
              "      <th>2004</th>\n",
              "      <td>201</td>\n",
              "      <td>Athens</td>\n",
              "    </tr>\n",
              "    <tr>\n",
              "      <th>2000</th>\n",
              "      <td>200</td>\n",
              "      <td>Sydney</td>\n",
              "    </tr>\n",
              "    <tr>\n",
              "      <th>1996</th>\n",
              "      <td>197</td>\n",
              "      <td>Atlanta</td>\n",
              "    </tr>\n",
              "  </tbody>\n",
              "</table>\n",
              "</div>"
            ],
            "text/plain": [
              "      No. of Participating Countries HostCity\n",
              "2012                             205   London\n",
              "2008                             205  Beijing\n",
              "2004                             201   Athens\n",
              "2000                             200   Sydney\n",
              "1996                             197  Atlanta"
            ]
          },
          "metadata": {
            "tags": []
          },
          "execution_count": 51
        }
      ]
    },
    {
      "cell_type": "markdown",
      "metadata": {
        "id": "v0TsPQmA9mz7",
        "colab_type": "text"
      },
      "source": [
        "## ndarray\n",
        "    \n",
        "An ndarray can be used as an input to creating Pandas DataFrame. The use of ndarray is recommended wherever the dataset is number centric and when instances require complex numerical computing.\n"
      ]
    },
    {
      "cell_type": "code",
      "metadata": {
        "id": "Meq75B_z9mz7",
        "colab_type": "code",
        "colab": {}
      },
      "source": [
        "# Create an ndarrays with years\n",
        "\n",
        "np_array = np.array([2012,2008,2004,2006])\n",
        "dict_ndarray = {'year':np_array}"
      ],
      "execution_count": 0,
      "outputs": []
    },
    {
      "cell_type": "code",
      "metadata": {
        "id": "KiZ2h4xa9mz9",
        "colab_type": "code",
        "colab": {},
        "outputId": "3629f3cd-6d0f-4699-dd4a-f4d16f2e15bc"
      },
      "source": [
        "# Create a df with the ndarray dict\n",
        "\n",
        "df_ndarray = pd.DataFrame(dict_ndarray)\n",
        "\n",
        "df_ndarray"
      ],
      "execution_count": 0,
      "outputs": [
        {
          "output_type": "execute_result",
          "data": {
            "text/html": [
              "<div>\n",
              "<style scoped>\n",
              "    .dataframe tbody tr th:only-of-type {\n",
              "        vertical-align: middle;\n",
              "    }\n",
              "\n",
              "    .dataframe tbody tr th {\n",
              "        vertical-align: top;\n",
              "    }\n",
              "\n",
              "    .dataframe thead th {\n",
              "        text-align: right;\n",
              "    }\n",
              "</style>\n",
              "<table border=\"1\" class=\"dataframe\">\n",
              "  <thead>\n",
              "    <tr style=\"text-align: right;\">\n",
              "      <th></th>\n",
              "      <th>year</th>\n",
              "    </tr>\n",
              "  </thead>\n",
              "  <tbody>\n",
              "    <tr>\n",
              "      <th>0</th>\n",
              "      <td>2012</td>\n",
              "    </tr>\n",
              "    <tr>\n",
              "      <th>1</th>\n",
              "      <td>2008</td>\n",
              "    </tr>\n",
              "    <tr>\n",
              "      <th>2</th>\n",
              "      <td>2004</td>\n",
              "    </tr>\n",
              "    <tr>\n",
              "      <th>3</th>\n",
              "      <td>2006</td>\n",
              "    </tr>\n",
              "  </tbody>\n",
              "</table>\n",
              "</div>"
            ],
            "text/plain": [
              "   year\n",
              "0  2012\n",
              "1  2008\n",
              "2  2004\n",
              "3  2006"
            ]
          },
          "metadata": {
            "tags": []
          },
          "execution_count": 54
        }
      ]
    },
    {
      "cell_type": "markdown",
      "metadata": {
        "id": "SYbGoj8G9mz_",
        "colab_type": "text"
      },
      "source": [
        "## DataFrame: \n",
        "\n",
        "You can also create a DataFrame from a DataFrame by passing it as an object."
      ]
    },
    {
      "cell_type": "code",
      "metadata": {
        "id": "rN0-15jj9m0A",
        "colab_type": "code",
        "colab": {},
        "outputId": "9f26043d-ac60-4b7d-ddf3-1e48da17eb1d"
      },
      "source": [
        "df_from_df = pd.DataFrame(df_olympic_series)\n",
        "df_from_df"
      ],
      "execution_count": 0,
      "outputs": [
        {
          "output_type": "execute_result",
          "data": {
            "text/html": [
              "<div>\n",
              "<style scoped>\n",
              "    .dataframe tbody tr th:only-of-type {\n",
              "        vertical-align: middle;\n",
              "    }\n",
              "\n",
              "    .dataframe tbody tr th {\n",
              "        vertical-align: top;\n",
              "    }\n",
              "\n",
              "    .dataframe thead th {\n",
              "        text-align: right;\n",
              "    }\n",
              "</style>\n",
              "<table border=\"1\" class=\"dataframe\">\n",
              "  <thead>\n",
              "    <tr style=\"text-align: right;\">\n",
              "      <th></th>\n",
              "      <th>No. of Participating Countries</th>\n",
              "      <th>HostCity</th>\n",
              "    </tr>\n",
              "  </thead>\n",
              "  <tbody>\n",
              "    <tr>\n",
              "      <th>2012</th>\n",
              "      <td>205</td>\n",
              "      <td>London</td>\n",
              "    </tr>\n",
              "    <tr>\n",
              "      <th>2008</th>\n",
              "      <td>205</td>\n",
              "      <td>Beijing</td>\n",
              "    </tr>\n",
              "    <tr>\n",
              "      <th>2004</th>\n",
              "      <td>201</td>\n",
              "      <td>Athens</td>\n",
              "    </tr>\n",
              "    <tr>\n",
              "      <th>2000</th>\n",
              "      <td>200</td>\n",
              "      <td>Sydney</td>\n",
              "    </tr>\n",
              "    <tr>\n",
              "      <th>1996</th>\n",
              "      <td>197</td>\n",
              "      <td>Atlanta</td>\n",
              "    </tr>\n",
              "  </tbody>\n",
              "</table>\n",
              "</div>"
            ],
            "text/plain": [
              "      No. of Participating Countries HostCity\n",
              "2012                             205   London\n",
              "2008                             205  Beijing\n",
              "2004                             201   Athens\n",
              "2000                             200   Sydney\n",
              "1996                             197  Atlanta"
            ]
          },
          "metadata": {
            "tags": []
          },
          "execution_count": 55
        }
      ]
    },
    {
      "cell_type": "markdown",
      "metadata": {
        "id": "xaYFLp0E9m0C",
        "colab_type": "text"
      },
      "source": [
        "# Data Operation with Statistical Functions"
      ]
    },
    {
      "cell_type": "code",
      "metadata": {
        "id": "OPAUklhV9m0C",
        "colab_type": "code",
        "colab": {}
      },
      "source": [
        "df_test_scores = pd.DataFrame({'Test1': [95,84,73,88,82,61], 'Test2': [74,85,82,73,77,79]}, \n",
        "                              index = ['Jack','Lewis','Patrick','Rich','Kelly','Paula'])"
      ],
      "execution_count": 0,
      "outputs": []
    },
    {
      "cell_type": "code",
      "metadata": {
        "id": "BGS9fG3J9m0D",
        "colab_type": "code",
        "colab": {},
        "outputId": "2d0bb047-d782-4f21-d964-03d54d9deab9"
      },
      "source": [
        "df_test_scores"
      ],
      "execution_count": 0,
      "outputs": [
        {
          "output_type": "execute_result",
          "data": {
            "text/html": [
              "<div>\n",
              "<style scoped>\n",
              "    .dataframe tbody tr th:only-of-type {\n",
              "        vertical-align: middle;\n",
              "    }\n",
              "\n",
              "    .dataframe tbody tr th {\n",
              "        vertical-align: top;\n",
              "    }\n",
              "\n",
              "    .dataframe thead th {\n",
              "        text-align: right;\n",
              "    }\n",
              "</style>\n",
              "<table border=\"1\" class=\"dataframe\">\n",
              "  <thead>\n",
              "    <tr style=\"text-align: right;\">\n",
              "      <th></th>\n",
              "      <th>Test1</th>\n",
              "      <th>Test2</th>\n",
              "    </tr>\n",
              "  </thead>\n",
              "  <tbody>\n",
              "    <tr>\n",
              "      <th>Jack</th>\n",
              "      <td>95</td>\n",
              "      <td>74</td>\n",
              "    </tr>\n",
              "    <tr>\n",
              "      <th>Lewis</th>\n",
              "      <td>84</td>\n",
              "      <td>85</td>\n",
              "    </tr>\n",
              "    <tr>\n",
              "      <th>Patrick</th>\n",
              "      <td>73</td>\n",
              "      <td>82</td>\n",
              "    </tr>\n",
              "    <tr>\n",
              "      <th>Rich</th>\n",
              "      <td>88</td>\n",
              "      <td>73</td>\n",
              "    </tr>\n",
              "    <tr>\n",
              "      <th>Kelly</th>\n",
              "      <td>82</td>\n",
              "      <td>77</td>\n",
              "    </tr>\n",
              "    <tr>\n",
              "      <th>Paula</th>\n",
              "      <td>61</td>\n",
              "      <td>79</td>\n",
              "    </tr>\n",
              "  </tbody>\n",
              "</table>\n",
              "</div>"
            ],
            "text/plain": [
              "         Test1  Test2\n",
              "Jack        95     74\n",
              "Lewis       84     85\n",
              "Patrick     73     82\n",
              "Rich        88     73\n",
              "Kelly       82     77\n",
              "Paula       61     79"
            ]
          },
          "metadata": {
            "tags": []
          },
          "execution_count": 57
        }
      ]
    },
    {
      "cell_type": "code",
      "metadata": {
        "id": "maMOwqf69m0G",
        "colab_type": "code",
        "colab": {},
        "outputId": "c9002f25-0126-4913-e94a-525765b9e047"
      },
      "source": [
        "df_test_scores.max() # default axis = 0; column wise ans"
      ],
      "execution_count": 0,
      "outputs": [
        {
          "output_type": "execute_result",
          "data": {
            "text/plain": [
              "Test1    95\n",
              "Test2    85\n",
              "dtype: int64"
            ]
          },
          "metadata": {
            "tags": []
          },
          "execution_count": 58
        }
      ]
    },
    {
      "cell_type": "code",
      "metadata": {
        "id": "_1sQwZaW9m0I",
        "colab_type": "code",
        "colab": {},
        "outputId": "d31101a9-37ac-4ead-da64-c50922f3289f"
      },
      "source": [
        "df_test_scores.max(axis = 1)"
      ],
      "execution_count": 0,
      "outputs": [
        {
          "output_type": "execute_result",
          "data": {
            "text/plain": [
              "Jack       95\n",
              "Lewis      85\n",
              "Patrick    82\n",
              "Rich       88\n",
              "Kelly      82\n",
              "Paula      79\n",
              "dtype: int64"
            ]
          },
          "metadata": {
            "tags": []
          },
          "execution_count": 59
        }
      ]
    },
    {
      "cell_type": "code",
      "metadata": {
        "id": "rx3opwoW9m0J",
        "colab_type": "code",
        "colab": {},
        "outputId": "72b210a9-13e6-4411-e116-a3d495d5f01e"
      },
      "source": [
        "df_test_scores.mean()"
      ],
      "execution_count": 0,
      "outputs": [
        {
          "output_type": "execute_result",
          "data": {
            "text/plain": [
              "Test1    80.500000\n",
              "Test2    78.333333\n",
              "dtype: float64"
            ]
          },
          "metadata": {
            "tags": []
          },
          "execution_count": 60
        }
      ]
    },
    {
      "cell_type": "code",
      "metadata": {
        "id": "sEELyiqY9m0M",
        "colab_type": "code",
        "colab": {},
        "outputId": "cb2422c6-4029-43e6-8e12-dc2f9adaee05"
      },
      "source": [
        "df_test_scores.mean(axis = 1)"
      ],
      "execution_count": 0,
      "outputs": [
        {
          "output_type": "execute_result",
          "data": {
            "text/plain": [
              "Jack       84.5\n",
              "Lewis      84.5\n",
              "Patrick    77.5\n",
              "Rich       80.5\n",
              "Kelly      79.5\n",
              "Paula      70.0\n",
              "dtype: float64"
            ]
          },
          "metadata": {
            "tags": []
          },
          "execution_count": 63
        }
      ]
    },
    {
      "cell_type": "code",
      "metadata": {
        "id": "i8I63nY99m0O",
        "colab_type": "code",
        "colab": {},
        "outputId": "485f0a7f-e95f-42ef-c7a1-344fc2980d7b"
      },
      "source": [
        "df_test_scores.describe()"
      ],
      "execution_count": 0,
      "outputs": [
        {
          "output_type": "execute_result",
          "data": {
            "text/html": [
              "<div>\n",
              "<style scoped>\n",
              "    .dataframe tbody tr th:only-of-type {\n",
              "        vertical-align: middle;\n",
              "    }\n",
              "\n",
              "    .dataframe tbody tr th {\n",
              "        vertical-align: top;\n",
              "    }\n",
              "\n",
              "    .dataframe thead th {\n",
              "        text-align: right;\n",
              "    }\n",
              "</style>\n",
              "<table border=\"1\" class=\"dataframe\">\n",
              "  <thead>\n",
              "    <tr style=\"text-align: right;\">\n",
              "      <th></th>\n",
              "      <th>Test1</th>\n",
              "      <th>Test2</th>\n",
              "    </tr>\n",
              "  </thead>\n",
              "  <tbody>\n",
              "    <tr>\n",
              "      <th>count</th>\n",
              "      <td>6.000000</td>\n",
              "      <td>6.000000</td>\n",
              "    </tr>\n",
              "    <tr>\n",
              "      <th>mean</th>\n",
              "      <td>80.500000</td>\n",
              "      <td>78.333333</td>\n",
              "    </tr>\n",
              "    <tr>\n",
              "      <th>std</th>\n",
              "      <td>11.979149</td>\n",
              "      <td>4.633213</td>\n",
              "    </tr>\n",
              "    <tr>\n",
              "      <th>min</th>\n",
              "      <td>61.000000</td>\n",
              "      <td>73.000000</td>\n",
              "    </tr>\n",
              "    <tr>\n",
              "      <th>25%</th>\n",
              "      <td>75.250000</td>\n",
              "      <td>74.750000</td>\n",
              "    </tr>\n",
              "    <tr>\n",
              "      <th>50%</th>\n",
              "      <td>83.000000</td>\n",
              "      <td>78.000000</td>\n",
              "    </tr>\n",
              "    <tr>\n",
              "      <th>75%</th>\n",
              "      <td>87.000000</td>\n",
              "      <td>81.250000</td>\n",
              "    </tr>\n",
              "    <tr>\n",
              "      <th>max</th>\n",
              "      <td>95.000000</td>\n",
              "      <td>85.000000</td>\n",
              "    </tr>\n",
              "  </tbody>\n",
              "</table>\n",
              "</div>"
            ],
            "text/plain": [
              "           Test1      Test2\n",
              "count   6.000000   6.000000\n",
              "mean   80.500000  78.333333\n",
              "std    11.979149   4.633213\n",
              "min    61.000000  73.000000\n",
              "25%    75.250000  74.750000\n",
              "50%    83.000000  78.000000\n",
              "75%    87.000000  81.250000\n",
              "max    95.000000  85.000000"
            ]
          },
          "metadata": {
            "tags": []
          },
          "execution_count": 64
        }
      ]
    },
    {
      "cell_type": "code",
      "metadata": {
        "id": "GqRSOdKs9m0R",
        "colab_type": "code",
        "colab": {},
        "outputId": "ae2c2055-c83c-40a7-a38b-aa31bd323d43"
      },
      "source": [
        "df_test_scores.describe(axis = 1)"
      ],
      "execution_count": 0,
      "outputs": [
        {
          "output_type": "error",
          "ename": "TypeError",
          "evalue": "describe() got an unexpected keyword argument 'axis'",
          "traceback": [
            "\u001b[1;31m---------------------------------------------------------------------------\u001b[0m",
            "\u001b[1;31mTypeError\u001b[0m                                 Traceback (most recent call last)",
            "\u001b[1;32m<ipython-input-65-dd4f08bb5c82>\u001b[0m in \u001b[0;36m<module>\u001b[1;34m()\u001b[0m\n\u001b[1;32m----> 1\u001b[1;33m \u001b[0mdf_test_scores\u001b[0m\u001b[1;33m.\u001b[0m\u001b[0mdescribe\u001b[0m\u001b[1;33m(\u001b[0m\u001b[0maxis\u001b[0m \u001b[1;33m=\u001b[0m \u001b[1;36m1\u001b[0m\u001b[1;33m)\u001b[0m\u001b[1;33m\u001b[0m\u001b[0m\n\u001b[0m",
            "\u001b[1;31mTypeError\u001b[0m: describe() got an unexpected keyword argument 'axis'"
          ]
        }
      ]
    }
  ]
}