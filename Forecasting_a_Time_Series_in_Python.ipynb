{
  "nbformat": 4,
  "nbformat_minor": 0,
  "metadata": {
    "anaconda-cloud": {},
    "kernelspec": {
      "display_name": "Python 3",
      "language": "python",
      "name": "python3"
    },
    "language_info": {
      "codemirror_mode": {
        "name": "ipython",
        "version": 3
      },
      "file_extension": ".py",
      "mimetype": "text/x-python",
      "name": "python",
      "nbconvert_exporter": "python",
      "pygments_lexer": "ipython3",
      "version": "3.6.1"
    },
    "colab": {
      "name": "Forecasting a Time Series in Python.ipynb",
      "provenance": [],
      "toc_visible": true,
      "include_colab_link": true
    }
  },
  "cells": [
    {
      "cell_type": "markdown",
      "metadata": {
        "id": "view-in-github",
        "colab_type": "text"
      },
      "source": [
        "<a href=\"https://colab.research.google.com/github/SamuelVinay91/MachineLearning/blob/master/Forecasting_a_Time_Series_in_Python.ipynb\" target=\"_parent\"><img src=\"https://colab.research.google.com/assets/colab-badge.svg\" alt=\"Open In Colab\"/></a>"
      ]
    },
    {
      "cell_type": "markdown",
      "metadata": {
        "id": "icwE512FAEk3",
        "colab_type": "text"
      },
      "source": [
        ""
      ]
    },
    {
      "cell_type": "code",
      "metadata": {
        "id": "JVlp91W8AEk4",
        "colab_type": "code",
        "colab": {
          "base_uri": "https://localhost:8080/",
          "height": 235
        },
        "outputId": "94ab7175-2541-4163-c481-f470cb4d69fa"
      },
      "source": [
        "%matplotlib inline\n",
        "import pandas as pd\n",
        "data = pd.read_csv(\"monthly-beer-production-in-austr.csv\",index_col=0)\n",
        "data.head()"
      ],
      "execution_count": 4,
      "outputs": [
        {
          "output_type": "execute_result",
          "data": {
            "text/html": [
              "<div>\n",
              "<style scoped>\n",
              "    .dataframe tbody tr th:only-of-type {\n",
              "        vertical-align: middle;\n",
              "    }\n",
              "\n",
              "    .dataframe tbody tr th {\n",
              "        vertical-align: top;\n",
              "    }\n",
              "\n",
              "    .dataframe thead th {\n",
              "        text-align: right;\n",
              "    }\n",
              "</style>\n",
              "<table border=\"1\" class=\"dataframe\">\n",
              "  <thead>\n",
              "    <tr style=\"text-align: right;\">\n",
              "      <th></th>\n",
              "      <th>Monthly beer production in Australia</th>\n",
              "    </tr>\n",
              "    <tr>\n",
              "      <th>Month</th>\n",
              "      <th></th>\n",
              "    </tr>\n",
              "  </thead>\n",
              "  <tbody>\n",
              "    <tr>\n",
              "      <th>1956-01</th>\n",
              "      <td>93.2</td>\n",
              "    </tr>\n",
              "    <tr>\n",
              "      <th>1956-02</th>\n",
              "      <td>96.0</td>\n",
              "    </tr>\n",
              "    <tr>\n",
              "      <th>1956-03</th>\n",
              "      <td>95.2</td>\n",
              "    </tr>\n",
              "    <tr>\n",
              "      <th>1956-04</th>\n",
              "      <td>77.1</td>\n",
              "    </tr>\n",
              "    <tr>\n",
              "      <th>1956-05</th>\n",
              "      <td>70.9</td>\n",
              "    </tr>\n",
              "  </tbody>\n",
              "</table>\n",
              "</div>"
            ],
            "text/plain": [
              "         Monthly beer production in Australia\n",
              "Month                                        \n",
              "1956-01                                  93.2\n",
              "1956-02                                  96.0\n",
              "1956-03                                  95.2\n",
              "1956-04                                  77.1\n",
              "1956-05                                  70.9"
            ]
          },
          "metadata": {
            "tags": []
          },
          "execution_count": 4
        }
      ]
    },
    {
      "cell_type": "markdown",
      "metadata": {
        "id": "e0-xC5gBAEk7",
        "colab_type": "text"
      },
      "source": [
        "Right now our index is actually just a list of strings that look like a date, we'll want to adjust these to be timestamps, that way our forecasting analysis will be able to interpret these values:"
      ]
    },
    {
      "cell_type": "code",
      "metadata": {
        "id": "pnP6vVVZAEk7",
        "colab_type": "code",
        "colab": {
          "base_uri": "https://localhost:8080/",
          "height": 119
        },
        "outputId": "5be06d0f-8aa4-4080-dd0d-92b01107b537"
      },
      "source": [
        "data.index"
      ],
      "execution_count": 5,
      "outputs": [
        {
          "output_type": "execute_result",
          "data": {
            "text/plain": [
              "Index(['1956-01', '1956-02', '1956-03', '1956-04', '1956-05', '1956-06',\n",
              "       '1956-07', '1956-08', '1956-09', '1956-10',\n",
              "       ...\n",
              "       '1994-11', '1994-12', '1995-01', '1995-02', '1995-03', '1995-04',\n",
              "       '1995-05', '1995-06', '1995-07', '1995-08'],\n",
              "      dtype='object', name='Month', length=476)"
            ]
          },
          "metadata": {
            "tags": []
          },
          "execution_count": 5
        }
      ]
    },
    {
      "cell_type": "code",
      "metadata": {
        "id": "hPTZcKFfAEk9",
        "colab_type": "code",
        "colab": {}
      },
      "source": [
        "data.index = pd.to_datetime(data.index)"
      ],
      "execution_count": 0,
      "outputs": []
    },
    {
      "cell_type": "code",
      "metadata": {
        "id": "T916A7_RAEk_",
        "colab_type": "code",
        "colab": {
          "base_uri": "https://localhost:8080/",
          "height": 235
        },
        "outputId": "555b8666-b83a-45de-92e0-e09b29402600"
      },
      "source": [
        "data.head()"
      ],
      "execution_count": 7,
      "outputs": [
        {
          "output_type": "execute_result",
          "data": {
            "text/html": [
              "<div>\n",
              "<style scoped>\n",
              "    .dataframe tbody tr th:only-of-type {\n",
              "        vertical-align: middle;\n",
              "    }\n",
              "\n",
              "    .dataframe tbody tr th {\n",
              "        vertical-align: top;\n",
              "    }\n",
              "\n",
              "    .dataframe thead th {\n",
              "        text-align: right;\n",
              "    }\n",
              "</style>\n",
              "<table border=\"1\" class=\"dataframe\">\n",
              "  <thead>\n",
              "    <tr style=\"text-align: right;\">\n",
              "      <th></th>\n",
              "      <th>Monthly beer production in Australia</th>\n",
              "    </tr>\n",
              "    <tr>\n",
              "      <th>Month</th>\n",
              "      <th></th>\n",
              "    </tr>\n",
              "  </thead>\n",
              "  <tbody>\n",
              "    <tr>\n",
              "      <th>1956-01-01</th>\n",
              "      <td>93.2</td>\n",
              "    </tr>\n",
              "    <tr>\n",
              "      <th>1956-02-01</th>\n",
              "      <td>96.0</td>\n",
              "    </tr>\n",
              "    <tr>\n",
              "      <th>1956-03-01</th>\n",
              "      <td>95.2</td>\n",
              "    </tr>\n",
              "    <tr>\n",
              "      <th>1956-04-01</th>\n",
              "      <td>77.1</td>\n",
              "    </tr>\n",
              "    <tr>\n",
              "      <th>1956-05-01</th>\n",
              "      <td>70.9</td>\n",
              "    </tr>\n",
              "  </tbody>\n",
              "</table>\n",
              "</div>"
            ],
            "text/plain": [
              "            Monthly beer production in Australia\n",
              "Month                                           \n",
              "1956-01-01                                  93.2\n",
              "1956-02-01                                  96.0\n",
              "1956-03-01                                  95.2\n",
              "1956-04-01                                  77.1\n",
              "1956-05-01                                  70.9"
            ]
          },
          "metadata": {
            "tags": []
          },
          "execution_count": 7
        }
      ]
    },
    {
      "cell_type": "code",
      "metadata": {
        "id": "laY4i93ZAElB",
        "colab_type": "code",
        "colab": {
          "base_uri": "https://localhost:8080/",
          "height": 153
        },
        "outputId": "f73522ee-4149-4ac9-ede2-cc8a177a6319"
      },
      "source": [
        "data.index"
      ],
      "execution_count": 8,
      "outputs": [
        {
          "output_type": "execute_result",
          "data": {
            "text/plain": [
              "DatetimeIndex(['1956-01-01', '1956-02-01', '1956-03-01', '1956-04-01',\n",
              "               '1956-05-01', '1956-06-01', '1956-07-01', '1956-08-01',\n",
              "               '1956-09-01', '1956-10-01',\n",
              "               ...\n",
              "               '1994-11-01', '1994-12-01', '1995-01-01', '1995-02-01',\n",
              "               '1995-03-01', '1995-04-01', '1995-05-01', '1995-06-01',\n",
              "               '1995-07-01', '1995-08-01'],\n",
              "              dtype='datetime64[ns]', name='Month', length=476, freq=None)"
            ]
          },
          "metadata": {
            "tags": []
          },
          "execution_count": 8
        }
      ]
    },
    {
      "cell_type": "markdown",
      "metadata": {
        "id": "EoeJA6F0AElD",
        "colab_type": "text"
      },
      "source": [
        "Let's first make sure that the data doesn't have any missing data points:"
      ]
    },
    {
      "cell_type": "code",
      "metadata": {
        "id": "U3M7OiOzAElD",
        "colab_type": "code",
        "colab": {
          "base_uri": "https://localhost:8080/",
          "height": 80
        },
        "outputId": "18a30a0c-db68-4fa5-a0bf-449f219ad099"
      },
      "source": [
        "data[pd.isnull(data['Monthly beer production in Australia'])]"
      ],
      "execution_count": 9,
      "outputs": [
        {
          "output_type": "execute_result",
          "data": {
            "text/html": [
              "<div>\n",
              "<style scoped>\n",
              "    .dataframe tbody tr th:only-of-type {\n",
              "        vertical-align: middle;\n",
              "    }\n",
              "\n",
              "    .dataframe tbody tr th {\n",
              "        vertical-align: top;\n",
              "    }\n",
              "\n",
              "    .dataframe thead th {\n",
              "        text-align: right;\n",
              "    }\n",
              "</style>\n",
              "<table border=\"1\" class=\"dataframe\">\n",
              "  <thead>\n",
              "    <tr style=\"text-align: right;\">\n",
              "      <th></th>\n",
              "      <th>Monthly beer production in Australia</th>\n",
              "    </tr>\n",
              "    <tr>\n",
              "      <th>Month</th>\n",
              "      <th></th>\n",
              "    </tr>\n",
              "  </thead>\n",
              "  <tbody>\n",
              "  </tbody>\n",
              "</table>\n",
              "</div>"
            ],
            "text/plain": [
              "Empty DataFrame\n",
              "Columns: [Monthly beer production in Australia]\n",
              "Index: []"
            ]
          },
          "metadata": {
            "tags": []
          },
          "execution_count": 9
        }
      ]
    },
    {
      "cell_type": "markdown",
      "metadata": {
        "id": "psmRi2XLAElF",
        "colab_type": "text"
      },
      "source": [
        "Let's also rename this column since its hard to remember what \"IPG2211A2N\" code stands for:"
      ]
    },
    {
      "cell_type": "code",
      "metadata": {
        "id": "Sgr6g_I5AElF",
        "colab_type": "code",
        "colab": {}
      },
      "source": [
        "data.columns = ['Beer Production']"
      ],
      "execution_count": 0,
      "outputs": []
    },
    {
      "cell_type": "code",
      "metadata": {
        "id": "Yy1CsnfEAElH",
        "colab_type": "code",
        "colab": {
          "base_uri": "https://localhost:8080/",
          "height": 235
        },
        "outputId": "cfd00dc6-2658-459c-bb85-34933bd734ed"
      },
      "source": [
        "data.head()"
      ],
      "execution_count": 11,
      "outputs": [
        {
          "output_type": "execute_result",
          "data": {
            "text/html": [
              "<div>\n",
              "<style scoped>\n",
              "    .dataframe tbody tr th:only-of-type {\n",
              "        vertical-align: middle;\n",
              "    }\n",
              "\n",
              "    .dataframe tbody tr th {\n",
              "        vertical-align: top;\n",
              "    }\n",
              "\n",
              "    .dataframe thead th {\n",
              "        text-align: right;\n",
              "    }\n",
              "</style>\n",
              "<table border=\"1\" class=\"dataframe\">\n",
              "  <thead>\n",
              "    <tr style=\"text-align: right;\">\n",
              "      <th></th>\n",
              "      <th>Beer Production</th>\n",
              "    </tr>\n",
              "    <tr>\n",
              "      <th>Month</th>\n",
              "      <th></th>\n",
              "    </tr>\n",
              "  </thead>\n",
              "  <tbody>\n",
              "    <tr>\n",
              "      <th>1956-01-01</th>\n",
              "      <td>93.2</td>\n",
              "    </tr>\n",
              "    <tr>\n",
              "      <th>1956-02-01</th>\n",
              "      <td>96.0</td>\n",
              "    </tr>\n",
              "    <tr>\n",
              "      <th>1956-03-01</th>\n",
              "      <td>95.2</td>\n",
              "    </tr>\n",
              "    <tr>\n",
              "      <th>1956-04-01</th>\n",
              "      <td>77.1</td>\n",
              "    </tr>\n",
              "    <tr>\n",
              "      <th>1956-05-01</th>\n",
              "      <td>70.9</td>\n",
              "    </tr>\n",
              "  </tbody>\n",
              "</table>\n",
              "</div>"
            ],
            "text/plain": [
              "            Beer Production\n",
              "Month                      \n",
              "1956-01-01             93.2\n",
              "1956-02-01             96.0\n",
              "1956-03-01             95.2\n",
              "1956-04-01             77.1\n",
              "1956-05-01             70.9"
            ]
          },
          "metadata": {
            "tags": []
          },
          "execution_count": 11
        }
      ]
    },
    {
      "cell_type": "code",
      "metadata": {
        "id": "ts1cFMJnAElJ",
        "colab_type": "code",
        "colab": {}
      },
      "source": [
        "import plotly.plotly as py\n",
        "# plotly.tools.set_credentials_file()\n",
        "\n",
        "py.sign_in(\"bapatla92\",\"TDYgVlKiacyhhnDcmScG\")"
      ],
      "execution_count": 0,
      "outputs": []
    },
    {
      "cell_type": "code",
      "metadata": {
        "id": "kVHMzz8FAElL",
        "colab_type": "code",
        "colab": {
          "base_uri": "https://localhost:8080/",
          "height": 71
        },
        "outputId": "59d63341-fcb3-4054-fab3-b6b048353122"
      },
      "source": [
        "from plotly.plotly import plot_mpl\n",
        "from statsmodels.tsa.seasonal import seasonal_decompose\n",
        "result = seasonal_decompose(data, model='multiplicative')\n",
        "fig = result.plot()\n",
        "plot_mpl(fig)"
      ],
      "execution_count": 19,
      "outputs": [
        {
          "output_type": "stream",
          "text": [
            "High five! You successfully sent some data to your account on plotly. View your plot in your browser at https://plot.ly/~bapatla92/0 or inside your plot.ly account where it is named 'plot from API'\n"
          ],
          "name": "stdout"
        },
        {
          "output_type": "execute_result",
          "data": {
            "text/plain": [
              "'https://plot.ly/~bapatla92/0'"
            ]
          },
          "metadata": {
            "tags": []
          },
          "execution_count": 19
        }
      ]
    },
    {
      "cell_type": "code",
      "metadata": {
        "id": "zXGsz_A9AElN",
        "colab_type": "code",
        "colab": {}
      },
      "source": [
        "import plotly.plotly as ply\n",
        "import cufflinks as cf\n",
        "# Check the docs on setting up offline plotting"
      ],
      "execution_count": 0,
      "outputs": []
    },
    {
      "cell_type": "code",
      "metadata": {
        "id": "NdYboOTWAElO",
        "colab_type": "code",
        "colab": {
          "base_uri": "https://localhost:8080/",
          "height": 546
        },
        "outputId": "71b1b9a6-0919-4b79-951b-ad7f56a54e12"
      },
      "source": [
        "data.iplot(title=\"Beer Production Jan 1956--Aug 1995\", theme='pearl')"
      ],
      "execution_count": 28,
      "outputs": [
        {
          "output_type": "execute_result",
          "data": {
            "text/html": [
              "<iframe id=\"igraph\" scrolling=\"no\" style=\"border:none;\" seamless=\"seamless\" src=\"https://plot.ly/~bapatla92/4.embed\" height=\"525px\" width=\"100%\"></iframe>"
            ],
            "text/plain": [
              "<chart_studio.tools.PlotlyDisplay object>"
            ]
          },
          "metadata": {
            "tags": []
          },
          "execution_count": 28
        }
      ]
    },
    {
      "cell_type": "code",
      "metadata": {
        "id": "mdnyxxgRAElR",
        "colab_type": "code",
        "colab": {
          "base_uri": "https://localhost:8080/",
          "height": 411
        },
        "outputId": "1496904d-eb5f-4319-c880-66baea74096e"
      },
      "source": [
        "from pyramid.arima import auto_arima"
      ],
      "execution_count": 31,
      "outputs": [
        {
          "output_type": "stream",
          "text": [
            "/usr/local/lib/python3.6/dist-packages/sklearn/externals/six.py:31: DeprecationWarning:\n",
            "\n",
            "The module is deprecated in version 0.21 and will be removed in version 0.23 since we've dropped support for Python 2.7. Please rely on the official version of six (https://pypi.org/project/six/).\n",
            "\n",
            "/usr/local/lib/python3.6/dist-packages/sklearn/externals/joblib/__init__.py:15: DeprecationWarning:\n",
            "\n",
            "sklearn.externals.joblib is deprecated in 0.21 and will be removed in 0.23. Please import this functionality directly from joblib, which can be installed with: pip install joblib. If this warning is raised when loading pickled models, you may need to re-serialize those models with scikit-learn 0.21+.\n",
            "\n",
            "/usr/local/lib/python3.6/dist-packages/pyramid/__init__.py:68: UserWarning:\n",
            "\n",
            "\n",
            "    The 'pyramid' package will be migrating to a new namespace beginning in \n",
            "    version 1.0.0: 'pmdarima'. This is due to a package name collision with the\n",
            "    Pyramid web framework. For more information, see Issue #34:\n",
            "    \n",
            "        https://github.com/tgsmith61591/pyramid/issues/34\n",
            "        \n",
            "    The package will subsequently be installable via the name 'pmdarima'; the\n",
            "    only functional change to the user will be the import name. All imports\n",
            "    from 'pyramid' will change to 'pmdarima'.\n",
            "    \n",
            "\n"
          ],
          "name": "stderr"
        }
      ]
    },
    {
      "cell_type": "markdown",
      "metadata": {
        "id": "GPfq0VkAAElT",
        "colab_type": "text"
      },
      "source": [
        "**he AIC measures how well a model fits the data while taking into account the overall complexity of the model. A model that fits the data very well while using lots of features will be assigned a larger AIC score than a model that uses fewer features to achieve the same goodness-of-fit. Therefore, we are interested in finding the model that yields the lowest AIC value."
      ]
    },
    {
      "cell_type": "code",
      "metadata": {
        "id": "duh7R37vAElU",
        "colab_type": "code",
        "colab": {
          "base_uri": "https://localhost:8080/",
          "height": 391
        },
        "outputId": "e3d5ed77-0a7b-4bb4-98a2-1c1b01ece845"
      },
      "source": [
        "stepwise_model = auto_arima(data, start_p=1, start_q=1,\n",
        "                           max_p=3, max_q=3, m=12,\n",
        "                           start_P=0, seasonal=True,\n",
        "                           d=1, D=1, trace=True,\n",
        "                           error_action='ignore',  \n",
        "                           suppress_warnings=True, \n",
        "                           stepwise=True) "
      ],
      "execution_count": 32,
      "outputs": [
        {
          "output_type": "stream",
          "text": [
            "Fit ARIMA: order=(1, 1, 1) seasonal_order=(0, 1, 1, 12); AIC=3474.251, BIC=3494.939, Fit time=3.423 seconds\n",
            "Fit ARIMA: order=(0, 1, 0) seasonal_order=(0, 1, 0, 12); AIC=4012.558, BIC=4020.833, Fit time=0.070 seconds\n",
            "Fit ARIMA: order=(1, 1, 0) seasonal_order=(1, 1, 0, 12); AIC=3818.509, BIC=3835.060, Fit time=1.222 seconds\n",
            "Fit ARIMA: order=(0, 1, 1) seasonal_order=(0, 1, 1, 12); AIC=3484.024, BIC=3500.575, Fit time=3.873 seconds\n",
            "Fit ARIMA: order=(1, 1, 1) seasonal_order=(1, 1, 1, 12); AIC=3468.503, BIC=3493.329, Fit time=7.500 seconds\n",
            "Fit ARIMA: order=(1, 1, 1) seasonal_order=(1, 1, 0, 12); AIC=3581.675, BIC=3602.364, Fit time=2.758 seconds\n",
            "Fit ARIMA: order=(1, 1, 1) seasonal_order=(1, 1, 2, 12); AIC=3469.454, BIC=3498.418, Fit time=18.108 seconds\n",
            "Fit ARIMA: order=(1, 1, 1) seasonal_order=(0, 1, 0, 12); AIC=3640.959, BIC=3657.510, Fit time=1.086 seconds\n",
            "Fit ARIMA: order=(1, 1, 1) seasonal_order=(2, 1, 2, 12); AIC=3463.011, BIC=3496.113, Fit time=26.177 seconds\n",
            "Fit ARIMA: order=(0, 1, 1) seasonal_order=(2, 1, 2, 12); AIC=3472.640, BIC=3501.604, Fit time=27.904 seconds\n",
            "Fit ARIMA: order=(2, 1, 1) seasonal_order=(2, 1, 2, 12); AIC=3448.037, BIC=3485.277, Fit time=29.553 seconds\n",
            "Fit ARIMA: order=(2, 1, 0) seasonal_order=(2, 1, 2, 12); AIC=3547.123, BIC=3580.225, Fit time=17.966 seconds\n",
            "Fit ARIMA: order=(2, 1, 2) seasonal_order=(2, 1, 2, 12); AIC=3445.454, BIC=3486.831, Fit time=24.742 seconds\n",
            "Fit ARIMA: order=(3, 1, 3) seasonal_order=(2, 1, 2, 12); AIC=3401.021, BIC=3450.674, Fit time=32.379 seconds\n",
            "Fit ARIMA: order=(3, 1, 3) seasonal_order=(1, 1, 2, 12); AIC=3392.401, BIC=3437.916, Fit time=30.329 seconds\n",
            "Fit ARIMA: order=(3, 1, 3) seasonal_order=(1, 1, 1, 12); AIC=3397.272, BIC=3438.649, Fit time=14.266 seconds\n",
            "Fit ARIMA: order=(3, 1, 3) seasonal_order=(0, 1, 1, 12); AIC=3397.242, BIC=3434.481, Fit time=12.817 seconds\n",
            "Fit ARIMA: order=(2, 1, 3) seasonal_order=(1, 1, 2, 12); AIC=3404.698, BIC=3446.075, Fit time=30.205 seconds\n",
            "Fit ARIMA: order=(3, 1, 2) seasonal_order=(1, 1, 2, 12); AIC=3449.294, BIC=3490.672, Fit time=16.932 seconds\n",
            "Fit ARIMA: order=(2, 1, 2) seasonal_order=(1, 1, 2, 12); AIC=3447.321, BIC=3484.560, Fit time=15.472 seconds\n",
            "Fit ARIMA: order=(3, 1, 3) seasonal_order=(0, 1, 2, 12); AIC=3398.735, BIC=3440.112, Fit time=29.810 seconds\n",
            "Total fit time: 346.610 seconds\n"
          ],
          "name": "stdout"
        }
      ]
    },
    {
      "cell_type": "code",
      "metadata": {
        "id": "nDneCmGsAElV",
        "colab_type": "code",
        "colab": {
          "base_uri": "https://localhost:8080/",
          "height": 34
        },
        "outputId": "6941da59-3362-4026-d394-5b355a6fcf85"
      },
      "source": [
        "stepwise_model.aic()"
      ],
      "execution_count": 33,
      "outputs": [
        {
          "output_type": "execute_result",
          "data": {
            "text/plain": [
              "3392.4005411365497"
            ]
          },
          "metadata": {
            "tags": []
          },
          "execution_count": 33
        }
      ]
    },
    {
      "cell_type": "markdown",
      "metadata": {
        "id": "9U3rXj0kAElX",
        "colab_type": "text"
      },
      "source": [
        "## Train Test Split"
      ]
    },
    {
      "cell_type": "code",
      "metadata": {
        "id": "nC8q5TU5AElY",
        "colab_type": "code",
        "colab": {
          "base_uri": "https://localhost:8080/",
          "height": 235
        },
        "outputId": "301ea9fd-e676-4928-c22d-f95beb57ee66"
      },
      "source": [
        "data.head()"
      ],
      "execution_count": 34,
      "outputs": [
        {
          "output_type": "execute_result",
          "data": {
            "text/html": [
              "<div>\n",
              "<style scoped>\n",
              "    .dataframe tbody tr th:only-of-type {\n",
              "        vertical-align: middle;\n",
              "    }\n",
              "\n",
              "    .dataframe tbody tr th {\n",
              "        vertical-align: top;\n",
              "    }\n",
              "\n",
              "    .dataframe thead th {\n",
              "        text-align: right;\n",
              "    }\n",
              "</style>\n",
              "<table border=\"1\" class=\"dataframe\">\n",
              "  <thead>\n",
              "    <tr style=\"text-align: right;\">\n",
              "      <th></th>\n",
              "      <th>Beer Production</th>\n",
              "    </tr>\n",
              "    <tr>\n",
              "      <th>Month</th>\n",
              "      <th></th>\n",
              "    </tr>\n",
              "  </thead>\n",
              "  <tbody>\n",
              "    <tr>\n",
              "      <th>1956-01-01</th>\n",
              "      <td>93.2</td>\n",
              "    </tr>\n",
              "    <tr>\n",
              "      <th>1956-02-01</th>\n",
              "      <td>96.0</td>\n",
              "    </tr>\n",
              "    <tr>\n",
              "      <th>1956-03-01</th>\n",
              "      <td>95.2</td>\n",
              "    </tr>\n",
              "    <tr>\n",
              "      <th>1956-04-01</th>\n",
              "      <td>77.1</td>\n",
              "    </tr>\n",
              "    <tr>\n",
              "      <th>1956-05-01</th>\n",
              "      <td>70.9</td>\n",
              "    </tr>\n",
              "  </tbody>\n",
              "</table>\n",
              "</div>"
            ],
            "text/plain": [
              "            Beer Production\n",
              "Month                      \n",
              "1956-01-01             93.2\n",
              "1956-02-01             96.0\n",
              "1956-03-01             95.2\n",
              "1956-04-01             77.1\n",
              "1956-05-01             70.9"
            ]
          },
          "metadata": {
            "tags": []
          },
          "execution_count": 34
        }
      ]
    },
    {
      "cell_type": "code",
      "metadata": {
        "id": "L5JzCwCXAEla",
        "colab_type": "code",
        "colab": {
          "base_uri": "https://localhost:8080/",
          "height": 119
        },
        "outputId": "6bcc82aa-956e-4bf6-baa1-2889dc5c3545"
      },
      "source": [
        "data.info()"
      ],
      "execution_count": 35,
      "outputs": [
        {
          "output_type": "stream",
          "text": [
            "<class 'pandas.core.frame.DataFrame'>\n",
            "DatetimeIndex: 476 entries, 1956-01-01 to 1995-08-01\n",
            "Data columns (total 1 columns):\n",
            "Beer Production    476 non-null float64\n",
            "dtypes: float64(1)\n",
            "memory usage: 7.4 KB\n"
          ],
          "name": "stdout"
        }
      ]
    },
    {
      "cell_type": "markdown",
      "metadata": {
        "id": "bkGJnAZ3AEld",
        "colab_type": "text"
      },
      "source": [
        "We'll train on 20 years of data, from the years 1985-2015 and test our forcast on the years after that and compare it to the real data."
      ]
    },
    {
      "cell_type": "code",
      "metadata": {
        "id": "iiGY7ZmaAEld",
        "colab_type": "code",
        "colab": {}
      },
      "source": [
        "train = data.loc['1956-01-01':'1977-12-01']"
      ],
      "execution_count": 0,
      "outputs": []
    },
    {
      "cell_type": "code",
      "metadata": {
        "id": "TxvIX2LHAElf",
        "colab_type": "code",
        "colab": {
          "base_uri": "https://localhost:8080/",
          "height": 235
        },
        "outputId": "2a4a4fb1-4934-4b2e-f761-bcd6fc26a0f0"
      },
      "source": [
        "train.tail()"
      ],
      "execution_count": 44,
      "outputs": [
        {
          "output_type": "execute_result",
          "data": {
            "text/html": [
              "<div>\n",
              "<style scoped>\n",
              "    .dataframe tbody tr th:only-of-type {\n",
              "        vertical-align: middle;\n",
              "    }\n",
              "\n",
              "    .dataframe tbody tr th {\n",
              "        vertical-align: top;\n",
              "    }\n",
              "\n",
              "    .dataframe thead th {\n",
              "        text-align: right;\n",
              "    }\n",
              "</style>\n",
              "<table border=\"1\" class=\"dataframe\">\n",
              "  <thead>\n",
              "    <tr style=\"text-align: right;\">\n",
              "      <th></th>\n",
              "      <th>Beer Production</th>\n",
              "    </tr>\n",
              "    <tr>\n",
              "      <th>Month</th>\n",
              "      <th></th>\n",
              "    </tr>\n",
              "  </thead>\n",
              "  <tbody>\n",
              "    <tr>\n",
              "      <th>1977-08-01</th>\n",
              "      <td>152.6</td>\n",
              "    </tr>\n",
              "    <tr>\n",
              "      <th>1977-09-01</th>\n",
              "      <td>166.8</td>\n",
              "    </tr>\n",
              "    <tr>\n",
              "      <th>1977-10-01</th>\n",
              "      <td>165.6</td>\n",
              "    </tr>\n",
              "    <tr>\n",
              "      <th>1977-11-01</th>\n",
              "      <td>198.6</td>\n",
              "    </tr>\n",
              "    <tr>\n",
              "      <th>1977-12-01</th>\n",
              "      <td>201.5</td>\n",
              "    </tr>\n",
              "  </tbody>\n",
              "</table>\n",
              "</div>"
            ],
            "text/plain": [
              "            Beer Production\n",
              "Month                      \n",
              "1977-08-01            152.6\n",
              "1977-09-01            166.8\n",
              "1977-10-01            165.6\n",
              "1977-11-01            198.6\n",
              "1977-12-01            201.5"
            ]
          },
          "metadata": {
            "tags": []
          },
          "execution_count": 44
        }
      ]
    },
    {
      "cell_type": "code",
      "metadata": {
        "id": "ZZ7k1jutAElh",
        "colab_type": "code",
        "colab": {}
      },
      "source": [
        "test = data.loc['1965-01-01':]"
      ],
      "execution_count": 0,
      "outputs": []
    },
    {
      "cell_type": "code",
      "metadata": {
        "id": "cADBh8XHAElj",
        "colab_type": "code",
        "colab": {
          "base_uri": "https://localhost:8080/",
          "height": 235
        },
        "outputId": "63e02ecf-9233-4983-f4c1-3492392e0770"
      },
      "source": [
        "test.head()"
      ],
      "execution_count": 47,
      "outputs": [
        {
          "output_type": "execute_result",
          "data": {
            "text/html": [
              "<div>\n",
              "<style scoped>\n",
              "    .dataframe tbody tr th:only-of-type {\n",
              "        vertical-align: middle;\n",
              "    }\n",
              "\n",
              "    .dataframe tbody tr th {\n",
              "        vertical-align: top;\n",
              "    }\n",
              "\n",
              "    .dataframe thead th {\n",
              "        text-align: right;\n",
              "    }\n",
              "</style>\n",
              "<table border=\"1\" class=\"dataframe\">\n",
              "  <thead>\n",
              "    <tr style=\"text-align: right;\">\n",
              "      <th></th>\n",
              "      <th>Beer Production</th>\n",
              "    </tr>\n",
              "    <tr>\n",
              "      <th>Month</th>\n",
              "      <th></th>\n",
              "    </tr>\n",
              "  </thead>\n",
              "  <tbody>\n",
              "    <tr>\n",
              "      <th>1965-01-01</th>\n",
              "      <td>106.9</td>\n",
              "    </tr>\n",
              "    <tr>\n",
              "      <th>1965-02-01</th>\n",
              "      <td>96.6</td>\n",
              "    </tr>\n",
              "    <tr>\n",
              "      <th>1965-03-01</th>\n",
              "      <td>127.3</td>\n",
              "    </tr>\n",
              "    <tr>\n",
              "      <th>1965-04-01</th>\n",
              "      <td>98.2</td>\n",
              "    </tr>\n",
              "    <tr>\n",
              "      <th>1965-05-01</th>\n",
              "      <td>100.2</td>\n",
              "    </tr>\n",
              "  </tbody>\n",
              "</table>\n",
              "</div>"
            ],
            "text/plain": [
              "            Beer Production\n",
              "Month                      \n",
              "1965-01-01            106.9\n",
              "1965-02-01             96.6\n",
              "1965-03-01            127.3\n",
              "1965-04-01             98.2\n",
              "1965-05-01            100.2"
            ]
          },
          "metadata": {
            "tags": []
          },
          "execution_count": 47
        }
      ]
    },
    {
      "cell_type": "code",
      "metadata": {
        "id": "UQtJ4m6kAElk",
        "colab_type": "code",
        "colab": {
          "base_uri": "https://localhost:8080/",
          "height": 235
        },
        "outputId": "116743d1-2d50-40de-b7b7-d5a91ee40963"
      },
      "source": [
        "test.tail()"
      ],
      "execution_count": 48,
      "outputs": [
        {
          "output_type": "execute_result",
          "data": {
            "text/html": [
              "<div>\n",
              "<style scoped>\n",
              "    .dataframe tbody tr th:only-of-type {\n",
              "        vertical-align: middle;\n",
              "    }\n",
              "\n",
              "    .dataframe tbody tr th {\n",
              "        vertical-align: top;\n",
              "    }\n",
              "\n",
              "    .dataframe thead th {\n",
              "        text-align: right;\n",
              "    }\n",
              "</style>\n",
              "<table border=\"1\" class=\"dataframe\">\n",
              "  <thead>\n",
              "    <tr style=\"text-align: right;\">\n",
              "      <th></th>\n",
              "      <th>Beer Production</th>\n",
              "    </tr>\n",
              "    <tr>\n",
              "      <th>Month</th>\n",
              "      <th></th>\n",
              "    </tr>\n",
              "  </thead>\n",
              "  <tbody>\n",
              "    <tr>\n",
              "      <th>1995-04-01</th>\n",
              "      <td>127.0</td>\n",
              "    </tr>\n",
              "    <tr>\n",
              "      <th>1995-05-01</th>\n",
              "      <td>151.0</td>\n",
              "    </tr>\n",
              "    <tr>\n",
              "      <th>1995-06-01</th>\n",
              "      <td>130.0</td>\n",
              "    </tr>\n",
              "    <tr>\n",
              "      <th>1995-07-01</th>\n",
              "      <td>119.0</td>\n",
              "    </tr>\n",
              "    <tr>\n",
              "      <th>1995-08-01</th>\n",
              "      <td>153.0</td>\n",
              "    </tr>\n",
              "  </tbody>\n",
              "</table>\n",
              "</div>"
            ],
            "text/plain": [
              "            Beer Production\n",
              "Month                      \n",
              "1995-04-01            127.0\n",
              "1995-05-01            151.0\n",
              "1995-06-01            130.0\n",
              "1995-07-01            119.0\n",
              "1995-08-01            153.0"
            ]
          },
          "metadata": {
            "tags": []
          },
          "execution_count": 48
        }
      ]
    },
    {
      "cell_type": "code",
      "metadata": {
        "id": "VSXmgW_iAEln",
        "colab_type": "code",
        "colab": {
          "base_uri": "https://localhost:8080/",
          "height": 34
        },
        "outputId": "15f0a535-f283-4ecd-d5aa-fb33868c34b9"
      },
      "source": [
        "len(test)"
      ],
      "execution_count": 49,
      "outputs": [
        {
          "output_type": "execute_result",
          "data": {
            "text/plain": [
              "368"
            ]
          },
          "metadata": {
            "tags": []
          },
          "execution_count": 49
        }
      ]
    },
    {
      "cell_type": "code",
      "metadata": {
        "id": "dH-j0Wd8AElp",
        "colab_type": "code",
        "colab": {
          "base_uri": "https://localhost:8080/",
          "height": 85
        },
        "outputId": "952c7769-b45e-48fa-8b2b-1784e934c5ca"
      },
      "source": [
        "stepwise_model.fit(train)"
      ],
      "execution_count": 50,
      "outputs": [
        {
          "output_type": "execute_result",
          "data": {
            "text/plain": [
              "ARIMA(callback=None, disp=0, maxiter=50, method=None, order=(3, 1, 3),\n",
              "      out_of_sample_size=0, scoring='mse', scoring_args={},\n",
              "      seasonal_order=(1, 1, 2, 12), solver='lbfgs', start_params=None,\n",
              "      suppress_warnings=True, transparams=True, trend='c')"
            ]
          },
          "metadata": {
            "tags": []
          },
          "execution_count": 50
        }
      ]
    },
    {
      "cell_type": "code",
      "metadata": {
        "id": "zswpmynnAElq",
        "colab_type": "code",
        "colab": {}
      },
      "source": [
        "future_forecast = stepwise_model.predict(n_periods=368)"
      ],
      "execution_count": 0,
      "outputs": []
    },
    {
      "cell_type": "code",
      "metadata": {
        "id": "wRWdVhtzAEls",
        "colab_type": "code",
        "colab": {
          "base_uri": "https://localhost:8080/",
          "height": 1000
        },
        "outputId": "bade763e-8e4d-448f-f305-857f1127380a"
      },
      "source": [
        "future_forecast"
      ],
      "execution_count": 56,
      "outputs": [
        {
          "output_type": "execute_result",
          "data": {
            "text/plain": [
              "array([164.59704629, 167.7483978 , 176.35537324, 156.77306878,\n",
              "       165.99177166, 138.06080563, 144.44915675, 164.48395995,\n",
              "       162.82514855, 176.67181309, 199.08293507, 203.13826344,\n",
              "       172.92714543, 173.74108403, 174.48190172, 166.70829738,\n",
              "       170.1183983 , 137.56362789, 155.03664024, 166.91805143,\n",
              "       163.27897539, 187.61299932, 200.32003934, 205.08453983,\n",
              "       183.72399655, 173.52494064, 178.38475602, 176.71763012,\n",
              "       169.15383486, 142.89047551, 164.12340976, 165.53037955,\n",
              "       170.3265899 , 195.42336665, 198.75386792, 213.51777027,\n",
              "       190.08971367, 172.45043902, 187.76709089, 181.65571573,\n",
              "       168.76959235, 153.16148266, 167.52716879, 166.19876164,\n",
              "       180.90947611, 197.43700035, 200.81589657, 224.08335171,\n",
              "       190.90539257, 175.94128272, 198.00222432, 181.50424161,\n",
              "       173.84518288, 162.5659725 , 166.81480629, 172.80141935,\n",
              "       189.27987537, 196.53181245, 208.76090805, 231.16225757,\n",
              "       190.20792694, 185.06278216, 203.62199314, 181.41771209,\n",
              "       183.794159  , 166.77109478, 167.64095702, 183.23378404,\n",
              "       192.0962593 , 198.544169  , 219.32087848, 232.77636725,\n",
              "       193.58606245, 195.34117951, 204.30274596, 186.23768673,\n",
              "       193.46379293, 166.79393891, 173.91035556, 191.98919246,\n",
              "       191.83706174, 206.15644981, 226.91863297, 232.59376595,\n",
              "       202.3534843 , 201.64848037, 204.5457682 , 195.90472383,\n",
              "       198.41207529, 167.80687168, 184.15269178, 195.61846547,\n",
              "       193.87970959, 216.6271906 , 229.36303918, 235.87070193,\n",
              "       212.69496455, 203.10912997, 209.1774984 , 205.77314997,\n",
              "       199.16931592, 173.80878428, 193.25089296, 195.9912426 ,\n",
              "       201.1910566 , 224.71234581, 229.69175134, 244.33706563,\n",
              "       219.60020322, 203.74060665, 218.57066894, 211.41750708,\n",
              "       200.41974269, 183.8504908 , 197.63856195, 198.13551073,\n",
              "       211.55833397, 227.93690239, 232.94298449, 254.69626429,\n",
              "       221.83384742, 208.2325282 , 228.59619431, 212.89825228,\n",
              "       206.20565931, 193.24311841, 198.65554996, 205.18082061,\n",
              "       220.07218387, 228.80711012, 241.13016562, 262.14884228,\n",
              "       222.88172817, 217.37248983, 234.88174766, 214.43363647,\n",
              "       216.04825064, 198.34038303, 200.95168881, 215.43529331,\n",
              "       224.04090913, 232.08423872, 251.48484077, 265.12736611,\n",
              "       227.2922379 , 227.5151142 , 237.07539923, 220.05284935,\n",
              "       225.6888359 , 200.00564031, 207.77458838, 224.32408494,\n",
              "       225.46904868, 240.02633097, 259.4289002 , 266.62276522,\n",
              "       236.19689627, 234.39100726, 238.93524718, 229.70303203,\n",
              "       231.44903379, 202.50040184, 217.90815783, 228.99963916,\n",
              "       228.82368476, 250.35486378, 263.12594878, 271.00295784,\n",
              "       246.42541289, 237.28215163, 244.43686883, 239.55005703,\n",
              "       233.76105142, 209.14389855, 227.12470275, 230.99696725,\n",
              "       236.55433023, 258.74057316, 265.09228688, 279.69536956,\n",
              "       253.84144997, 239.50110293, 253.90472508, 245.92752737,\n",
              "       236.49672483, 219.15361176, 232.46813893, 234.47658252,\n",
              "       246.84136111, 263.12656956, 269.49134354, 289.98278985,\n",
              "       257.41230274, 244.9322538 , 263.92207991, 248.88057952,\n",
              "       243.0032506 , 228.65505473, 235.04160719, 242.03047029,\n",
              "       255.62201193, 265.58274282, 277.99632061, 297.89185796,\n",
              "       260.01944701, 254.23140433, 270.87224755, 251.89469764,\n",
              "       252.89052666, 234.62741611, 238.68929525, 252.26544154,\n",
              "       260.66622123, 270.04634774, 288.32096662, 302.1217411 ,\n",
              "       265.42541444, 264.38782661, 274.45707985, 258.30589642,\n",
              "       262.63841872, 237.7795878 , 246.10177221, 261.39804682,\n",
              "       263.62622333, 278.39063182, 296.67854252, 305.1414342 ,\n",
              "       274.5722499 , 271.86772048, 277.78248753, 268.07592381,\n",
              "       269.20110199, 241.63435406, 256.27844171, 267.06880872,\n",
              "       268.1968217 , 288.73544046, 301.54475989, 310.56514919,\n",
              "       284.84121566, 276.07196905, 284.1388963 , 278.03617494,\n",
              "       272.93065313, 248.94084547, 265.72379672, 270.54225557,\n",
              "       276.40840314, 297.49993276, 304.99674129, 319.57846292,\n",
              "       292.80969035, 279.73704852, 293.80012849, 285.15128076,\n",
              "       277.0274504 , 259.05692395, 271.98895718, 275.25891162,\n",
              "       286.76066942, 302.97816246, 310.47866972, 329.93786693,\n",
              "       297.6183968 , 286.07776898, 303.94288396, 289.45346933,\n",
              "       284.26307871, 268.77956212, 275.98149035, 283.36661622,\n",
              "       295.89348496, 306.87791173, 319.37914127, 338.35586592,\n",
              "       301.64725967, 295.64147168, 311.57353756, 293.8232809 ,\n",
              "       294.31979947, 275.60688981, 280.87985207, 293.71761705,\n",
              "       301.95824733, 312.45588237, 329.81104965, 343.75191797,\n",
              "       308.00971063, 305.94094269, 316.4406469 , 301.0225273 ,\n",
              "       304.28794683, 280.12056192, 288.91293881, 303.18323886,\n",
              "       306.31729384, 321.26565111, 338.64177443, 348.16464269,\n",
              "       317.48951657, 314.0515741 , 321.11060702, 311.02422931,\n",
              "       311.64548601, 285.23287369, 299.25757091, 309.8082977 ,\n",
              "       312.02640017, 331.75601174, 344.60634018, 354.58434781,\n",
              "       327.92379372, 319.47333379, 328.3070162 , 321.20972367,\n",
              "       316.67914906, 293.22067016, 309.02358744, 314.63455011,\n",
              "       320.76865883, 340.96506042, 349.41921511, 363.9958426 ,\n",
              "       336.48036861, 324.46687748, 338.2607428 , 329.06610432,\n",
              "       322.03429499, 303.55709231, 316.18231698, 320.50708617,\n",
              "       331.30700997, 347.4779849 , 355.9296404 , 374.54668637,\n",
              "       342.44435645, 331.69280527, 348.63892281, 334.61578759,\n",
              "       330.00587574, 313.59418921, 321.48039213, 329.20571285,\n",
              "       340.86247105, 352.70376741, 365.28997206, 383.51689544,\n",
              "       347.78139088, 341.60792015, 356.96362946, 340.23936599,\n",
              "       340.335156  , 321.25990378, 327.54582653, 339.78488485,\n",
              "       347.90264339, 359.33619775, 375.94258933, 390.00891583,\n",
              "       355.0677938 , 352.15748942, 363.02290435, 348.22327038,\n",
              "       350.61707622, 327.03145306, 336.2250509 , 349.65739449])"
            ]
          },
          "metadata": {
            "tags": []
          },
          "execution_count": 56
        }
      ]
    },
    {
      "cell_type": "code",
      "metadata": {
        "id": "vkN2JhhtAElt",
        "colab_type": "code",
        "colab": {}
      },
      "source": [
        "future_forecast = pd.DataFrame(future_forecast,index = test.index,columns=['Prediction'])"
      ],
      "execution_count": 0,
      "outputs": []
    },
    {
      "cell_type": "code",
      "metadata": {
        "id": "Ddx-6B4pAElw",
        "colab_type": "code",
        "colab": {
          "base_uri": "https://localhost:8080/",
          "height": 235
        },
        "outputId": "d4a7b846-3c2a-4e95-8555-8dcd104ca0c3"
      },
      "source": [
        "future_forecast.head()"
      ],
      "execution_count": 59,
      "outputs": [
        {
          "output_type": "execute_result",
          "data": {
            "text/html": [
              "<div>\n",
              "<style scoped>\n",
              "    .dataframe tbody tr th:only-of-type {\n",
              "        vertical-align: middle;\n",
              "    }\n",
              "\n",
              "    .dataframe tbody tr th {\n",
              "        vertical-align: top;\n",
              "    }\n",
              "\n",
              "    .dataframe thead th {\n",
              "        text-align: right;\n",
              "    }\n",
              "</style>\n",
              "<table border=\"1\" class=\"dataframe\">\n",
              "  <thead>\n",
              "    <tr style=\"text-align: right;\">\n",
              "      <th></th>\n",
              "      <th>Prediction</th>\n",
              "    </tr>\n",
              "    <tr>\n",
              "      <th>Month</th>\n",
              "      <th></th>\n",
              "    </tr>\n",
              "  </thead>\n",
              "  <tbody>\n",
              "    <tr>\n",
              "      <th>1965-01-01</th>\n",
              "      <td>164.597046</td>\n",
              "    </tr>\n",
              "    <tr>\n",
              "      <th>1965-02-01</th>\n",
              "      <td>167.748398</td>\n",
              "    </tr>\n",
              "    <tr>\n",
              "      <th>1965-03-01</th>\n",
              "      <td>176.355373</td>\n",
              "    </tr>\n",
              "    <tr>\n",
              "      <th>1965-04-01</th>\n",
              "      <td>156.773069</td>\n",
              "    </tr>\n",
              "    <tr>\n",
              "      <th>1965-05-01</th>\n",
              "      <td>165.991772</td>\n",
              "    </tr>\n",
              "  </tbody>\n",
              "</table>\n",
              "</div>"
            ],
            "text/plain": [
              "            Prediction\n",
              "Month                 \n",
              "1965-01-01  164.597046\n",
              "1965-02-01  167.748398\n",
              "1965-03-01  176.355373\n",
              "1965-04-01  156.773069\n",
              "1965-05-01  165.991772"
            ]
          },
          "metadata": {
            "tags": []
          },
          "execution_count": 59
        }
      ]
    },
    {
      "cell_type": "code",
      "metadata": {
        "id": "QVR_rt0tAEly",
        "colab_type": "code",
        "colab": {
          "base_uri": "https://localhost:8080/",
          "height": 235
        },
        "outputId": "fec9aae2-489d-48f6-920e-a2f72361acd5"
      },
      "source": [
        "test.head()"
      ],
      "execution_count": 60,
      "outputs": [
        {
          "output_type": "execute_result",
          "data": {
            "text/html": [
              "<div>\n",
              "<style scoped>\n",
              "    .dataframe tbody tr th:only-of-type {\n",
              "        vertical-align: middle;\n",
              "    }\n",
              "\n",
              "    .dataframe tbody tr th {\n",
              "        vertical-align: top;\n",
              "    }\n",
              "\n",
              "    .dataframe thead th {\n",
              "        text-align: right;\n",
              "    }\n",
              "</style>\n",
              "<table border=\"1\" class=\"dataframe\">\n",
              "  <thead>\n",
              "    <tr style=\"text-align: right;\">\n",
              "      <th></th>\n",
              "      <th>Beer Production</th>\n",
              "    </tr>\n",
              "    <tr>\n",
              "      <th>Month</th>\n",
              "      <th></th>\n",
              "    </tr>\n",
              "  </thead>\n",
              "  <tbody>\n",
              "    <tr>\n",
              "      <th>1965-01-01</th>\n",
              "      <td>106.9</td>\n",
              "    </tr>\n",
              "    <tr>\n",
              "      <th>1965-02-01</th>\n",
              "      <td>96.6</td>\n",
              "    </tr>\n",
              "    <tr>\n",
              "      <th>1965-03-01</th>\n",
              "      <td>127.3</td>\n",
              "    </tr>\n",
              "    <tr>\n",
              "      <th>1965-04-01</th>\n",
              "      <td>98.2</td>\n",
              "    </tr>\n",
              "    <tr>\n",
              "      <th>1965-05-01</th>\n",
              "      <td>100.2</td>\n",
              "    </tr>\n",
              "  </tbody>\n",
              "</table>\n",
              "</div>"
            ],
            "text/plain": [
              "            Beer Production\n",
              "Month                      \n",
              "1965-01-01            106.9\n",
              "1965-02-01             96.6\n",
              "1965-03-01            127.3\n",
              "1965-04-01             98.2\n",
              "1965-05-01            100.2"
            ]
          },
          "metadata": {
            "tags": []
          },
          "execution_count": 60
        }
      ]
    },
    {
      "cell_type": "code",
      "metadata": {
        "id": "KmX0oLNGAEl0",
        "colab_type": "code",
        "colab": {
          "base_uri": "https://localhost:8080/",
          "height": 546
        },
        "outputId": "8a53058f-c5e9-4666-b761-7886ed7f2df7"
      },
      "source": [
        "pd.concat([test,future_forecast],axis=1).iplot()"
      ],
      "execution_count": 61,
      "outputs": [
        {
          "output_type": "execute_result",
          "data": {
            "text/html": [
              "<iframe id=\"igraph\" scrolling=\"no\" style=\"border:none;\" seamless=\"seamless\" src=\"https://plot.ly/~bapatla92/6.embed\" height=\"525px\" width=\"100%\"></iframe>"
            ],
            "text/plain": [
              "<chart_studio.tools.PlotlyDisplay object>"
            ]
          },
          "metadata": {
            "tags": []
          },
          "execution_count": 61
        }
      ]
    },
    {
      "cell_type": "code",
      "metadata": {
        "id": "NmeFfoyHAEl1",
        "colab_type": "code",
        "colab": {}
      },
      "source": [
        "future_forecast2 = future_forecast"
      ],
      "execution_count": 0,
      "outputs": []
    },
    {
      "cell_type": "code",
      "metadata": {
        "id": "6ZqevYL4AEl3",
        "colab_type": "code",
        "colab": {
          "base_uri": "https://localhost:8080/",
          "height": 546
        },
        "outputId": "b3993fc9-35af-4204-aeae-f42c9a7d9bc4"
      },
      "source": [
        "pd.concat([data,future_forecast2],axis=1).iplot()"
      ],
      "execution_count": 64,
      "outputs": [
        {
          "output_type": "execute_result",
          "data": {
            "text/html": [
              "<iframe id=\"igraph\" scrolling=\"no\" style=\"border:none;\" seamless=\"seamless\" src=\"https://plot.ly/~bapatla92/8.embed\" height=\"525px\" width=\"100%\"></iframe>"
            ],
            "text/plain": [
              "<chart_studio.tools.PlotlyDisplay object>"
            ]
          },
          "metadata": {
            "tags": []
          },
          "execution_count": 64
        }
      ]
    },
    {
      "cell_type": "code",
      "metadata": {
        "id": "w5cyxR6TAEl4",
        "colab_type": "code",
        "colab": {}
      },
      "source": [
        ""
      ],
      "execution_count": 0,
      "outputs": []
    }
  ]
}