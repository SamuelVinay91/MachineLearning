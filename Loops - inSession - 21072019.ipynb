{
 "cells": [
  {
   "cell_type": "markdown",
   "metadata": {},
   "source": [
    "# FOR LOOP\n",
    " - iterates through items in python that are in a sequence or any other iterable item.\n",
    " - can iterate through strings, lists,tuples and dictionaries using keys and values\n",
    " \n",
    "- syntax\n",
    "    for <itemname> in <objectname>:        ###itemname is a variable, objectname is lists/tuples/dictionary/string etc\n",
    "        statements to execute              ### actions to perform\n",
    " \n",
    " \n",
    "- The variable name used for the item is completely up to the coder\n",
    "- Best practice is to create meaningful variables\n",
    "- This item name can then be referenced inside your loop, \n",
    "  for example if you wanted to use <code>if</code> statements to perform checks."
   ]
  },
  {
   "cell_type": "markdown",
   "metadata": {},
   "source": [
    "For Loops:\n",
    "\n",
    "A for loop acts as an iterator in Python; it goes through items that are in a sequence or any other iterable item. Objects that we've learned about that we can iterate over include strings, lists, tuples, and even built-in iterables for dictionaries, such as keys or values.\n",
    "\n",
    "We've already seen the for statement a little bit in past lectures but now let's formalize our understanding.\n",
    "\n",
    "Here's the general format for a for loop in Python:\n",
    "\n",
    "for item in object:\n",
    "    statements to do stuff"
   ]
  },
  {
   "cell_type": "markdown",
   "metadata": {},
   "source": [
    "The variable name used for the item is completely up to the coder, so use your best judgment for choosing a name that makes sense and you will be able to understand when revisiting your code. This item name can then be referenced inside your loop, for example if you wanted to use <code>if</code> statements to perform checks."
   ]
  },
  {
   "cell_type": "code",
   "execution_count": 1,
   "metadata": {},
   "outputs": [
    {
     "name": "stdout",
     "output_type": "stream",
     "text": [
      "[1, 2, 3, 4, 5, 6, 7, 8, 9, 10]\n"
     ]
    }
   ],
   "source": [
    "### example 1 - iterating through lists\n",
    "for_list = [1,2,3,4,5,6,7,8,9,10]\n",
    "print (for_list)"
   ]
  },
  {
   "cell_type": "code",
   "execution_count": 2,
   "metadata": {},
   "outputs": [
    {
     "name": "stdout",
     "output_type": "stream",
     "text": [
      "1\n",
      "2\n",
      "3\n",
      "4\n",
      "5\n",
      "6\n",
      "7\n",
      "8\n",
      "9\n",
      "10\n"
     ]
    }
   ],
   "source": [
    "for num in for_list:       ### remember that the variable num is autodefined by for loop and type is auto assigned based on\n",
    "    print(num)             ### values in the list"
   ]
  },
  {
   "cell_type": "code",
   "execution_count": 6,
   "metadata": {},
   "outputs": [],
   "source": [
    "list1 = [100, 10.05, \"Apple\"]"
   ]
  },
  {
   "cell_type": "code",
   "execution_count": 7,
   "metadata": {},
   "outputs": [
    {
     "name": "stdout",
     "output_type": "stream",
     "text": [
      "100\n",
      "10.05\n",
      "Apple\n"
     ]
    }
   ],
   "source": [
    "for ele in list1:\n",
    "    print(ele)"
   ]
  },
  {
   "cell_type": "code",
   "execution_count": 3,
   "metadata": {},
   "outputs": [
    {
     "name": "stdout",
     "output_type": "stream",
     "text": [
      "1\n",
      "4\n",
      "9\n",
      "16\n",
      "25\n",
      "36\n",
      "49\n",
      "64\n",
      "81\n",
      "100\n"
     ]
    }
   ],
   "source": [
    "### for every item in the list for_list, find the square of that item\n",
    "for num1 in for_list:   ### slice notation\n",
    "    num1 = num1**2\n",
    "    print(num1)"
   ]
  },
  {
   "cell_type": "code",
   "execution_count": 12,
   "metadata": {},
   "outputs": [
    {
     "data": {
      "text/plain": [
       "1296"
      ]
     },
     "execution_count": 12,
     "metadata": {},
     "output_type": "execute_result"
    }
   ],
   "source": [
    "6**4"
   ]
  },
  {
   "cell_type": "code",
   "execution_count": 11,
   "metadata": {},
   "outputs": [
    {
     "data": {
      "text/plain": [
       "5"
      ]
     },
     "execution_count": 11,
     "metadata": {},
     "output_type": "execute_result"
    }
   ],
   "source": [
    "# 6^3"
   ]
  },
  {
   "cell_type": "code",
   "execution_count": 15,
   "metadata": {
    "collapsed": true
   },
   "outputs": [
    {
     "name": "stdout",
     "output_type": "stream",
     "text": [
      "value of num1 is  1\n",
      "value of num1 is  2\n",
      "num1 is even 2\n",
      "square of num1 is : 4\n",
      "value of num1 is  3\n",
      "value of num1 is  4\n",
      "num1 is even 4\n",
      "square of num1 is : 16\n",
      "value of num1 is  5\n",
      "value of num1 is  6\n",
      "num1 is even 6\n",
      "square of num1 is : 36\n",
      "value of num1 is  7\n",
      "value of num1 is  8\n",
      "num1 is even 8\n",
      "square of num1 is : 64\n",
      "value of num1 is  9\n",
      "value of num1 is  10\n",
      "num1 is even 10\n",
      "square of num1 is : 100\n"
     ]
    }
   ],
   "source": [
    "### for every item in the list for_list, find the sqaure of that item that are only even\n",
    "for_list = [1,2,3,4,5,6,7,8,9,10]\n",
    "for num1 in for_list:   \n",
    "    print('value of num1 is ',num1)\n",
    "    if num1%2 == 0:\n",
    "        print(\"num1 is even\",num1)\n",
    "        num1 = num1**2\n",
    "        print(\"square of num1 is :\",num1)"
   ]
  },
  {
   "cell_type": "code",
   "execution_count": 14,
   "metadata": {},
   "outputs": [
    {
     "data": {
      "text/plain": [
       "1"
      ]
     },
     "execution_count": 14,
     "metadata": {},
     "output_type": "execute_result"
    }
   ],
   "source": [
    "2%2 == 0 # Remainder\n",
    "3%2"
   ]
  },
  {
   "cell_type": "code",
   "execution_count": 16,
   "metadata": {},
   "outputs": [
    {
     "name": "stdout",
     "output_type": "stream",
     "text": [
      "[1, 2, 3, 4, 5]\n",
      "1\n",
      "2\n",
      "3\n",
      "4\n",
      "5\n"
     ]
    }
   ],
   "source": [
    "### to limit the for loop to a select set of items in list\n",
    "### example 1 - iterating thru lists using slice notation\n",
    "for_list10 = [1,2,3,4,5,6,7,8,9,10]\n",
    "print (for_list10[0:5])\n",
    "\n",
    "for num10 in for_list10[0:5]:   ### slice notation\n",
    "    print(num10)"
   ]
  },
  {
   "cell_type": "code",
   "execution_count": 17,
   "metadata": {},
   "outputs": [
    {
     "name": "stdout",
     "output_type": "stream",
     "text": [
      "[1, 3, 5, 7, 9]\n",
      "1\n",
      "3\n",
      "5\n",
      "7\n",
      "9\n"
     ]
    }
   ],
   "source": [
    "### to print only the alternate entries from list \n",
    "### example 1 - iterating thru lists\n",
    "\n",
    "for_list11 = [1,2,3,4,5,6,7,8,9,10]\n",
    "print (for_list11[0:10:2]) # Start:Stop:Step\n",
    "\n",
    "for num11 in for_list11[0:10:2]:   ### slice notation\n",
    "    print(num11)               \n"
   ]
  },
  {
   "cell_type": "code",
   "execution_count": 20,
   "metadata": {},
   "outputs": [
    {
     "name": "stdout",
     "output_type": "stream",
     "text": [
      "[1, 3, 5, 7, 9]\n",
      "[1, 4, 7, 10]\n"
     ]
    }
   ],
   "source": [
    "for_list11 = [1,2,3,4,5,6,7,8,9,10]\n",
    "print (for_list11[0:10:2]) # Start:Stop:Step\n",
    "print (for_list11[0:10:3])"
   ]
  },
  {
   "cell_type": "code",
   "execution_count": 18,
   "metadata": {
    "collapsed": true
   },
   "outputs": [
    {
     "name": "stdout",
     "output_type": "stream",
     "text": [
      "t\n",
      "h\n",
      "i\n",
      "s\n",
      " \n",
      "i\n",
      "s\n",
      " \n",
      "a\n",
      " \n",
      "s\n",
      "t\n",
      "r\n",
      "i\n",
      "n\n",
      "g\n"
     ]
    }
   ],
   "source": [
    "## example 2 - iterating through strings\n",
    "for letter in 'this is a string':\n",
    "    print(letter)"
   ]
  },
  {
   "cell_type": "code",
   "execution_count": 21,
   "metadata": {},
   "outputs": [
    {
     "name": "stdout",
     "output_type": "stream",
     "text": [
      "1\n",
      "2\n",
      "3\n",
      "4\n",
      "5\n"
     ]
    }
   ],
   "source": [
    "## example 3 - iterating through tuples\n",
    "\n",
    "tup1 = (1,2,3,4,5)\n",
    "\n",
    "for t in tup1:\n",
    "    print(t)"
   ]
  },
  {
   "cell_type": "code",
   "execution_count": 22,
   "metadata": {},
   "outputs": [
    {
     "name": "stdout",
     "output_type": "stream",
     "text": [
      "(1, 2)\n",
      "(3, 4)\n",
      "(5, 6)\n"
     ]
    }
   ],
   "source": [
    "## example 4 - iterating through list of tuples\n",
    "\n",
    "tup_list = [(1,2),(3,4),(5,6)]\n",
    "\n",
    "for t in tup_list:\n",
    "    print(t)"
   ]
  },
  {
   "cell_type": "code",
   "execution_count": 23,
   "metadata": {},
   "outputs": [
    {
     "name": "stdout",
     "output_type": "stream",
     "text": [
      "1\n",
      "3\n",
      "5\n"
     ]
    }
   ],
   "source": [
    "### example 4.1 - tuple unpacking\n",
    "for (t1,t2) in tup_list:\n",
    "    print(t1)"
   ]
  },
  {
   "cell_type": "code",
   "execution_count": 24,
   "metadata": {},
   "outputs": [
    {
     "name": "stdout",
     "output_type": "stream",
     "text": [
      "2\n",
      "4\n",
      "6\n"
     ]
    }
   ],
   "source": [
    "### example 4.2 - tuple unpacking\n",
    "for (t1,t2) in tup_list:\n",
    "    print(t2)"
   ]
  },
  {
   "cell_type": "code",
   "execution_count": 25,
   "metadata": {},
   "outputs": [],
   "source": [
    "## example 5 - iterating through dictionaries\n",
    "my_dict = {'k1':1,'k2':2,'k3':3}"
   ]
  },
  {
   "cell_type": "code",
   "execution_count": 26,
   "metadata": {},
   "outputs": [
    {
     "name": "stdout",
     "output_type": "stream",
     "text": [
      "k1\n",
      "k2\n",
      "k3\n"
     ]
    }
   ],
   "source": [
    "#### this will only print the keys by default!!! \n",
    "for itm_dict in my_dict:\n",
    "    print(itm_dict)"
   ]
  },
  {
   "cell_type": "code",
   "execution_count": 27,
   "metadata": {},
   "outputs": [
    {
     "name": "stdout",
     "output_type": "stream",
     "text": [
      "('k1', 1)\n",
      "('k2', 2)\n",
      "('k3', 3)\n"
     ]
    }
   ],
   "source": [
    "#### this will only print the keys and values \n",
    "for itm_dict in my_dict.items():\n",
    "    print(itm_dict)"
   ]
  },
  {
   "cell_type": "code",
   "execution_count": 28,
   "metadata": {},
   "outputs": [
    {
     "name": "stdout",
     "output_type": "stream",
     "text": [
      "1\n",
      "2\n",
      "3\n"
     ]
    }
   ],
   "source": [
    "#### this will only print the  values \n",
    "for itm_dict in my_dict.values():\n",
    "    print(itm_dict)"
   ]
  },
  {
   "cell_type": "markdown",
   "metadata": {},
   "source": [
    "# WHILE LOOPS\n",
    "\n",
    "The <code>while</code> statement in Python is one of most general ways to perform iteration. \n",
    "\n",
    "\n",
    "A <code>while</code> statement will repeatedly execute a single statement or group of statements as long as the condition is true. The reason it is called a 'loop' is because the code statements are looped through over and over again until the condition is no longer met.\n",
    "\n",
    "\n",
    "  while <condition is true>:\n",
    "        code statements\n",
    "    else:\n",
    "        final code statements"
   ]
  },
  {
   "cell_type": "markdown",
   "metadata": {},
   "source": [
    "while Loops\n",
    "The while statement in Python is one of most general ways to perform iteration. A while statement will repeatedly execute a single statement or group of statements as long as the condition is true. The reason it is called a 'loop' is because the code statements are looped through over and over again until the condition is no longer met.\n",
    "\n",
    "The general format of a while loop is:\n",
    "\n",
    "while test:\n",
    "    code statements\n",
    "else:\n",
    "    final code statements\n",
    " "
   ]
  },
  {
   "cell_type": "code",
   "execution_count": 29,
   "metadata": {
    "collapsed": true
   },
   "outputs": [
    {
     "name": "stdout",
     "output_type": "stream",
     "text": [
      "x current : 0\n",
      "x still < 10 0\n",
      "x post addition 1\n",
      "x current : 1\n",
      "x still < 10 1\n",
      "x post addition 2\n",
      "x current : 2\n",
      "x still < 10 2\n",
      "x post addition 3\n",
      "x current : 3\n",
      "x still < 10 3\n",
      "x post addition 4\n",
      "x current : 4\n",
      "x still < 10 4\n",
      "x post addition 5\n",
      "x current : 5\n",
      "x still < 10 5\n",
      "x post addition 6\n",
      "x current : 6\n",
      "x still < 10 6\n",
      "x post addition 7\n",
      "x current : 7\n",
      "x still < 10 7\n",
      "x post addition 8\n",
      "x current : 8\n",
      "x still < 10 8\n",
      "x post addition 9\n",
      "x current : 9\n",
      "x still < 10 9\n",
      "x post addition 10\n",
      "x current : 10\n",
      "x still < 10 10\n",
      "x post addition 11\n"
     ]
    }
   ],
   "source": [
    "x = 0\n",
    "\n",
    "while x <= 10:\n",
    "    print ('x current :',x)\n",
    "    print ('x still < 10',x)\n",
    "#    x = x + 1       ## ADD 1 TO X AND REASSIGN TO X\n",
    "    x+=1          ### smart coding  x += 1  is same as x= x + 1\n",
    "    print('x post addition',x)\n",
    " "
   ]
  },
  {
   "cell_type": "code",
   "execution_count": 30,
   "metadata": {
    "collapsed": true
   },
   "outputs": [
    {
     "name": "stdout",
     "output_type": "stream",
     "text": [
      "  x current : 0\n",
      " x still < 10 0\n",
      "x post addition 1\n",
      "  x current : 1\n",
      " x still < 10 1\n",
      "x post addition 2\n",
      "  x current : 2\n",
      " x still < 10 2\n",
      "x post addition 3\n",
      "  x current : 3\n",
      " x still < 10 3\n",
      "x post addition 4\n",
      "  x current : 4\n",
      " x still < 10 4\n",
      "x post addition 5\n",
      "  x current : 5\n",
      " x still < 10 5\n",
      "x post addition 6\n",
      "  x current : 6\n",
      " x still < 10 6\n",
      "x post addition 7\n",
      "  x current : 7\n",
      " x still < 10 7\n",
      "x post addition 8\n",
      "  x current : 8\n",
      " x still < 10 8\n",
      "x post addition 9\n",
      "  x current : 9\n",
      " x still < 10 9\n",
      "x post addition 10\n",
      "  x current : 10\n",
      " x still < 10 10\n",
      "x post addition 11\n",
      "out of while loop,x now is: 11\n"
     ]
    }
   ],
   "source": [
    "### example of While with Else\n",
    "\n",
    "x=0\n",
    "\n",
    "while x <= 10:\n",
    "    print ('  x current :',x)\n",
    "    print (' x still < 10',x)\n",
    "#    x = x + 1       ## ADD 1 TO X AND REASSIGN TO X\n",
    "    x+=1          ### smart coding  x += 1  is same as x= x + 1\n",
    "    print('x post addition',x)\n",
    "else:\n",
    "    print(\"out of while loop,x now is:\",x)"
   ]
  },
  {
   "cell_type": "markdown",
   "metadata": {},
   "source": [
    "# THIS GET INTO AN INFINITE LOOP - NOT RECOMMENDED"
   ]
  },
  {
   "cell_type": "raw",
   "metadata": {},
   "source": [
    "### example of While with Else\n",
    "### this will go on an infinite loop\n",
    "\n",
    "x=0\n",
    "\n",
    "while (x >= 5) | (x <=10):\n",
    "    print ('  x current :',x)\n",
    "    print (' x still < 10',x)\n",
    "#    x = x + 1       ## ADD 1 TO X AND REASSIGN TO X\n",
    "    x+=1          ### smart coding  x += 1  is same as x= x + 1\n",
    "    print('x post addition',x)\n",
    "else:\n",
    "    print(\"out of while,x now is:\",x)"
   ]
  },
  {
   "cell_type": "markdown",
   "metadata": {},
   "source": [
    "###### IF YOU GET INTO AN INFITE LOOP - PERFORM THE BELOW IN JUPYTER\n",
    "\n",
    "    ### GO TO KERNEL TAB, HIT SHUTDOWN/RESTART/CLEAROUTPUT"
   ]
  },
  {
   "cell_type": "markdown",
   "metadata": {},
   "source": [
    "### break, continue and pass in while \n",
    "\n",
    "- break: Breaks out of the current closest enclosing loop.\n",
    "- continue: Goes to the top of the closest enclosing loop.\n",
    "- pass: Does nothing at all.\n",
    "\n",
    "\n",
    "while test:\n",
    "      code statement\n",
    "      if test:\n",
    "         break\n",
    "      if test:\n",
    "         conutee\n",
    "else: \n",
    "\n",
    "\n",
    "<code>break</code> and <code>continue</code> statements can appear anywhere inside the loop’s body, but we will usually put them further nested in conjunction with an <code>if</code> statement to perform an action based on some condition."
   ]
  },
  {
   "cell_type": "code",
   "execution_count": 33,
   "metadata": {},
   "outputs": [
    {
     "ename": "SyntaxError",
     "evalue": "unexpected EOF while parsing (<ipython-input-33-7d8e9cd7729b>, line 2)",
     "output_type": "error",
     "traceback": [
      "\u001b[1;36m  File \u001b[1;32m\"<ipython-input-33-7d8e9cd7729b>\"\u001b[1;36m, line \u001b[1;32m2\u001b[0m\n\u001b[1;33m    for itm in samp:\u001b[0m\n\u001b[1;37m                    ^\u001b[0m\n\u001b[1;31mSyntaxError\u001b[0m\u001b[1;31m:\u001b[0m unexpected EOF while parsing\n"
     ]
    }
   ],
   "source": [
    "samp = [1,2,3]\n",
    "for itm in samp:"
   ]
  },
  {
   "cell_type": "code",
   "execution_count": 36,
   "metadata": {},
   "outputs": [
    {
     "name": "stdout",
     "output_type": "stream",
     "text": [
      "[1, 2, 3]\n"
     ]
    }
   ],
   "source": [
    "samp = [1,2,3]\n",
    "print (samp)"
   ]
  },
  {
   "cell_type": "code",
   "execution_count": 37,
   "metadata": {},
   "outputs": [],
   "source": [
    "### using a pass statement allows a programmer to create a place holder for a future operation or execution\n",
    "for itm in samp:\n",
    "    pass"
   ]
  },
  {
   "cell_type": "code",
   "execution_count": 38,
   "metadata": {},
   "outputs": [
    {
     "name": "stdout",
     "output_type": "stream",
     "text": [
      "inside for\n",
      "inside for\n",
      "inside for\n",
      "outside for to rest of program\n"
     ]
    }
   ],
   "source": [
    "### we use PASS, any statement after pass but within for loop will be performed for the number of iterations of the for loop\n",
    "### any statement after the\"PASS\" statement but outside the for loop will be performed once \n",
    "\n",
    "samp = [1,2,3]\n",
    "for itm in samp:\n",
    "    pass                      ### no action -- does nothing --prevents an error### CAN BE USED AS A FILLER WHEN WE DO NOT KNOW ACTION TOTAKE\n",
    "    print('inside for')       ### prints this 3 times because 3 items in the list. \n",
    "                              \n",
    "\n",
    "     \n",
    "    \n",
    "print('outside for to rest of program')   #### this print is outside the for loop"
   ]
  },
  {
   "cell_type": "code",
   "execution_count": 39,
   "metadata": {
    "collapsed": true
   },
   "outputs": [
    {
     "name": "stdout",
     "output_type": "stream",
     "text": [
      "Current Letter: B\n",
      "Current Letter: i\n",
      "Current Letter: g\n",
      "Current Letter: D\n",
      "Current Letter: a\n",
      "Current Letter: t\n",
      "Current Letter: a\n",
      "Current Letter: a\n",
      "Current Letter: n\n",
      "Current Letter: d\n",
      "Current Letter: A\n",
      "Current Letter: n\n",
      "Current Letter: a\n",
      "Current Letter: l\n",
      "Current Letter: y\n",
      "Current Letter: t\n",
      "Current Letter: i\n",
      "Current Letter: c\n",
      "Current Letter: s\n"
     ]
    }
   ],
   "source": [
    "# ContinueStatement\n",
    "\n",
    "Str = '#Big Data @and Analytics@'\n",
    "for letter in Str:     \n",
    "    if letter == '#' or letter == ' ' or letter == '@':\n",
    "        continue\n",
    "    print ('Current Letter:', letter)"
   ]
  },
  {
   "cell_type": "code",
   "execution_count": 40,
   "metadata": {},
   "outputs": [],
   "source": [
    "Str = '#Big Data @and Analytics@'\n",
    "for letter in Str:     \n",
    "    if letter == '#' or letter == ' ' or letter == '@':\n",
    "        continue\n",
    "        print ('Current Letter:', letter)"
   ]
  },
  {
   "cell_type": "code",
   "execution_count": 42,
   "metadata": {},
   "outputs": [
    {
     "name": "stdout",
     "output_type": "stream",
     "text": [
      "Current Letter: B\n",
      "Current Letter: i\n",
      "Current Letter: g\n",
      "Current Letter: D\n",
      "Current Letter: a\n",
      "Current Letter: t\n",
      "Current Letter: a\n",
      "Current Letter: a\n",
      "Current Letter: n\n",
      "Current Letter: d\n",
      "Got one of the '#' , '' or @ ...So breaking the loop\n"
     ]
    }
   ],
   "source": [
    "#BreakStatement\n",
    "\n",
    "Str = 'BigDataand@Analytics@'\n",
    "for letter in Str:     \n",
    "    if letter == '#' or letter == ' ' or letter == '@':\n",
    "        print (\"Got one of the '#' , '' or @ ...So breaking the loop\")\n",
    "        break\n",
    "    print ('Current Letter:', letter)"
   ]
  },
  {
   "cell_type": "code",
   "execution_count": null,
   "metadata": {},
   "outputs": [],
   "source": []
  }
 ],
 "metadata": {
  "kernelspec": {
   "display_name": "Python 3",
   "language": "python",
   "name": "python3"
  },
  "language_info": {
   "codemirror_mode": {
    "name": "ipython",
    "version": 3
   },
   "file_extension": ".py",
   "mimetype": "text/x-python",
   "name": "python",
   "nbconvert_exporter": "python",
   "pygments_lexer": "ipython3",
   "version": "3.7.0"
  }
 },
 "nbformat": 4,
 "nbformat_minor": 2
}
