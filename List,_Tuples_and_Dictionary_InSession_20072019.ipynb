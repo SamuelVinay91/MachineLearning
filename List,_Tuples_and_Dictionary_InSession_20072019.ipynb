{
  "nbformat": 4,
  "nbformat_minor": 0,
  "metadata": {
    "kernelspec": {
      "display_name": "Python 3",
      "language": "python",
      "name": "python3"
    },
    "language_info": {
      "codemirror_mode": {
        "name": "ipython",
        "version": 3
      },
      "file_extension": ".py",
      "mimetype": "text/x-python",
      "name": "python",
      "nbconvert_exporter": "python",
      "pygments_lexer": "ipython3",
      "version": "3.7.0"
    },
    "colab": {
      "name": "List, Tuples and Dictionary - InSession - 20072019.ipynb",
      "version": "0.3.2",
      "provenance": [],
      "include_colab_link": true
    }
  },
  "cells": [
    {
      "cell_type": "markdown",
      "metadata": {
        "id": "view-in-github",
        "colab_type": "text"
      },
      "source": [
        "<a href=\"https://colab.research.google.com/github/SamuelVinay91/MachineLearning/blob/master/List%2C_Tuples_and_Dictionary_InSession_20072019.ipynb\" target=\"_parent\"><img src=\"https://colab.research.google.com/assets/colab-badge.svg\" alt=\"Open In Colab\"/></a>"
      ]
    },
    {
      "cell_type": "markdown",
      "metadata": {
        "id": "CJMOmMVhWy-V",
        "colab_type": "text"
      },
      "source": [
        "# Tuple"
      ]
    },
    {
      "cell_type": "markdown",
      "metadata": {
        "id": "EHETaW5PWy-X",
        "colab_type": "text"
      },
      "source": [
        "A tuple is a one-dimensional, fixed-length, immutable sequence of Python objects. Immutable implies that its content cannot be modified. \n",
        "\n",
        "The easiest way to create a tuple is to provide a comma-separated sequence of values. In this example, a tuple is assigned a bunch of mixed comma separated data type values enclosed within parentheses. \n",
        "\n",
        "Let’s view it by referencing the tuple object. To access the tuple element at index 1, use the syntax shown here. The index usually starts from 0. \n",
        "\n",
        "If you try to modify the value at a specified index, it throws an error since a tuple is immutable. "
      ]
    },
    {
      "cell_type": "code",
      "metadata": {
        "id": "FaKGK22NWy-Y",
        "colab_type": "code",
        "colab": {},
        "outputId": "c49a4472-ad85-4c21-8c48-1196dd74cff1"
      },
      "source": [
        "tup1 = (\"physics\", \"chemistry\", 1997, 2000)\n",
        "print (tup1)"
      ],
      "execution_count": 0,
      "outputs": [
        {
          "output_type": "stream",
          "text": [
            "('physics', 'chemistry', 1997, 2000)\n"
          ],
          "name": "stdout"
        }
      ]
    },
    {
      "cell_type": "code",
      "metadata": {
        "id": "7zxlO5jDWy-d",
        "colab_type": "code",
        "colab": {},
        "outputId": "1eaaf9f2-5313-4d4c-9c39-f05eba61c6fd"
      },
      "source": [
        "tup1[2]"
      ],
      "execution_count": 0,
      "outputs": [
        {
          "output_type": "execute_result",
          "data": {
            "text/plain": [
              "1997"
            ]
          },
          "metadata": {
            "tags": []
          },
          "execution_count": 2
        }
      ]
    },
    {
      "cell_type": "code",
      "metadata": {
        "id": "FqL4_syYWy-g",
        "colab_type": "code",
        "colab": {},
        "outputId": "41902adc-05e4-4f7d-9f2e-2bf7bbc75573"
      },
      "source": [
        "# Update Tuple\n",
        "\n",
        "tup1 = (\"physics\", \"chemistry\", 1997, 2000)\n",
        "\n",
        "print ('Original Tuple = ', tup1)\n",
        "\n",
        "tup1[2] = 'maths'\n",
        "\n",
        "print ('Updated Tuple = ', tup1)"
      ],
      "execution_count": 0,
      "outputs": [
        {
          "output_type": "stream",
          "text": [
            "Original Tuple =  ('physics', 'chemistry', 1997, 2000)\n"
          ],
          "name": "stdout"
        },
        {
          "output_type": "error",
          "ename": "TypeError",
          "evalue": "'tuple' object does not support item assignment",
          "traceback": [
            "\u001b[1;31m---------------------------------------------------------------------------\u001b[0m",
            "\u001b[1;31mTypeError\u001b[0m                                 Traceback (most recent call last)",
            "\u001b[1;32m<ipython-input-3-a947ff60837e>\u001b[0m in \u001b[0;36m<module>\u001b[1;34m()\u001b[0m\n\u001b[0;32m      5\u001b[0m \u001b[0mprint\u001b[0m \u001b[1;33m(\u001b[0m\u001b[1;34m'Original Tuple = '\u001b[0m\u001b[1;33m,\u001b[0m \u001b[0mtup1\u001b[0m\u001b[1;33m)\u001b[0m\u001b[1;33m\u001b[0m\u001b[0m\n\u001b[0;32m      6\u001b[0m \u001b[1;33m\u001b[0m\u001b[0m\n\u001b[1;32m----> 7\u001b[1;33m \u001b[0mtup1\u001b[0m\u001b[1;33m[\u001b[0m\u001b[1;36m2\u001b[0m\u001b[1;33m]\u001b[0m \u001b[1;33m=\u001b[0m \u001b[1;34m'maths'\u001b[0m\u001b[1;33m\u001b[0m\u001b[0m\n\u001b[0m\u001b[0;32m      8\u001b[0m \u001b[1;33m\u001b[0m\u001b[0m\n\u001b[0;32m      9\u001b[0m \u001b[0mprint\u001b[0m \u001b[1;33m(\u001b[0m\u001b[1;34m'Updated Tuple = '\u001b[0m\u001b[1;33m,\u001b[0m \u001b[0mtup1\u001b[0m\u001b[1;33m)\u001b[0m\u001b[1;33m\u001b[0m\u001b[0m\n",
            "\u001b[1;31mTypeError\u001b[0m: 'tuple' object does not support item assignment"
          ]
        }
      ]
    },
    {
      "cell_type": "code",
      "metadata": {
        "id": "QbtVYETcWy-j",
        "colab_type": "code",
        "colab": {},
        "outputId": "f1d76ce7-ec80-4e53-fc7e-d6156959fe7b"
      },
      "source": [
        "# Delete an element of tuple\n",
        "\n",
        "tup1 = (\"physics\", \"chemistry\", 1997, 2000)\n",
        "\n",
        "print ('Orignal Tuple = ', tup1)\n",
        "\n",
        "del tup1[2]\n",
        "\n",
        "print ('Updated Tuple = ', tup1)"
      ],
      "execution_count": 0,
      "outputs": [
        {
          "output_type": "stream",
          "text": [
            "Orignal Tuple =  ('physics', 'chemistry', 1997, 2000)\n"
          ],
          "name": "stdout"
        },
        {
          "output_type": "error",
          "ename": "TypeError",
          "evalue": "'tuple' object doesn't support item deletion",
          "traceback": [
            "\u001b[1;31m---------------------------------------------------------------------------\u001b[0m",
            "\u001b[1;31mTypeError\u001b[0m                                 Traceback (most recent call last)",
            "\u001b[1;32m<ipython-input-4-699521eaf115>\u001b[0m in \u001b[0;36m<module>\u001b[1;34m()\u001b[0m\n\u001b[0;32m      5\u001b[0m \u001b[0mprint\u001b[0m \u001b[1;33m(\u001b[0m\u001b[1;34m'Orignal Tuple = '\u001b[0m\u001b[1;33m,\u001b[0m \u001b[0mtup1\u001b[0m\u001b[1;33m)\u001b[0m\u001b[1;33m\u001b[0m\u001b[0m\n\u001b[0;32m      6\u001b[0m \u001b[1;33m\u001b[0m\u001b[0m\n\u001b[1;32m----> 7\u001b[1;33m \u001b[1;32mdel\u001b[0m \u001b[0mtup1\u001b[0m\u001b[1;33m[\u001b[0m\u001b[1;36m2\u001b[0m\u001b[1;33m]\u001b[0m\u001b[1;33m\u001b[0m\u001b[0m\n\u001b[0m\u001b[0;32m      8\u001b[0m \u001b[1;33m\u001b[0m\u001b[0m\n\u001b[0;32m      9\u001b[0m \u001b[0mprint\u001b[0m \u001b[1;33m(\u001b[0m\u001b[1;34m'Updated Tuple = '\u001b[0m\u001b[1;33m,\u001b[0m \u001b[0mtup1\u001b[0m\u001b[1;33m)\u001b[0m\u001b[1;33m\u001b[0m\u001b[0m\n",
            "\u001b[1;31mTypeError\u001b[0m: 'tuple' object doesn't support item deletion"
          ]
        }
      ]
    },
    {
      "cell_type": "markdown",
      "metadata": {
        "id": "WgaWuSZPWy-m",
        "colab_type": "text"
      },
      "source": [
        "We can use the index of an element to view and access it. To access elements with the help of positive indices, count from the left, starting with 0. \n",
        "\n",
        "You can also use negative indices by counting from the right, starting with -1. Negative indices are useful as they help you to easily refer to elements at the end of a long tuple."
      ]
    },
    {
      "cell_type": "markdown",
      "metadata": {
        "id": "7AluGoRDWy-o",
        "colab_type": "text"
      },
      "source": [
        "Once you have seen how to access individual elements in a tuple. You can also access a range or slice of elements within a tuple. \n",
        "\n",
        "Slicing allows you to create a subset of the tuple. To slice a tuple, mention the indices of the first element and that of the element immediately after the last element. This is because while the first index is inclusive, the second one is not. \n",
        "\n",
        "For example, here we can see that referencing indices 1 to 4, creates a tuple subset containing the elements from index 1 to 3.\n",
        "\n",
        "You can also use negative indices to slice tuples, as shown here.\n",
        "\n"
      ]
    },
    {
      "cell_type": "code",
      "metadata": {
        "id": "r54AbNABWy-o",
        "colab_type": "code",
        "colab": {}
      },
      "source": [
        "tup1 = (3,4,5)\n",
        "del tup1"
      ],
      "execution_count": 0,
      "outputs": []
    },
    {
      "cell_type": "code",
      "metadata": {
        "id": "U-xiyKi5Wy-q",
        "colab_type": "code",
        "colab": {},
        "outputId": "90f327c9-aff7-4fd3-f7f5-30b1054dcdd7"
      },
      "source": [
        "print (tup1)"
      ],
      "execution_count": 0,
      "outputs": [
        {
          "output_type": "error",
          "ename": "NameError",
          "evalue": "name 'tup1' is not defined",
          "traceback": [
            "\u001b[1;31m---------------------------------------------------------------------------\u001b[0m",
            "\u001b[1;31mNameError\u001b[0m                                 Traceback (most recent call last)",
            "\u001b[1;32m<ipython-input-6-96d918311f63>\u001b[0m in \u001b[0;36m<module>\u001b[1;34m()\u001b[0m\n\u001b[1;32m----> 1\u001b[1;33m \u001b[0mprint\u001b[0m \u001b[1;33m(\u001b[0m\u001b[0mtup1\u001b[0m\u001b[1;33m)\u001b[0m\u001b[1;33m\u001b[0m\u001b[0m\n\u001b[0m",
            "\u001b[1;31mNameError\u001b[0m: name 'tup1' is not defined"
          ]
        }
      ]
    },
    {
      "cell_type": "code",
      "metadata": {
        "id": "S0baDMemWy-t",
        "colab_type": "code",
        "colab": {}
      },
      "source": [
        "tup1 = ('abcd', 786, 2.23, 'john', 70.2)\n",
        "tinytuple = (123, 'jane')"
      ],
      "execution_count": 0,
      "outputs": []
    },
    {
      "cell_type": "code",
      "metadata": {
        "id": "PLMYcojFWy-w",
        "colab_type": "code",
        "colab": {},
        "outputId": "e66f3d5d-ba28-43ff-d78d-952c3d41afbc"
      },
      "source": [
        "print (tup1[0])\n",
        "print (tup1[1:3])\n",
        "print (tup1[2:])\n",
        "print (tup1[1:-1])\n",
        "print (tinytuple * 2)\n",
        "print (tup1 + tinytuple)"
      ],
      "execution_count": 0,
      "outputs": [
        {
          "output_type": "stream",
          "text": [
            "abcd\n",
            "(786, 2.23)\n",
            "(2.23, 'john', 70.2)\n",
            "(786, 2.23, 'john')\n",
            "(123, 'jane', 123, 'jane')\n",
            "('abcd', 786, 2.23, 'john', 70.2, 123, 'jane')\n"
          ],
          "name": "stdout"
        }
      ]
    },
    {
      "cell_type": "markdown",
      "metadata": {
        "id": "n5kwSMIWWy-0",
        "colab_type": "text"
      },
      "source": [
        "# Lists"
      ]
    },
    {
      "cell_type": "markdown",
      "metadata": {
        "id": "Atp9_XYsWy-1",
        "colab_type": "text"
      },
      "source": [
        "In contrast with tuples, the length of lists is variable and their contents can be modified. They can be defined using square brackets [ ]. \n",
        "\n",
        "Here, a list is defined using comma separated values of mixed data types. \n",
        "\n",
        "We can view the content of the list by just referring to the list object. \n",
        "\n",
        "You can use the append method to add a value to the list. Note that this value gets added to the end of the list. \n",
        "\n",
        "We can also remove any particular item by just referring to the element value. \n",
        "\n",
        "Use the pop method to simultaneously view and remove the value at a particular index. \n",
        "\n",
        "Similarly, use the insert method to insert a value at a particular index. "
      ]
    },
    {
      "cell_type": "code",
      "metadata": {
        "id": "SmC3WuhkWy-2",
        "colab_type": "code",
        "colab": {},
        "outputId": "e62bba05-4a70-488a-c2aa-37d036a293ff"
      },
      "source": [
        "SimpleList = [10,20,30,40,50]\n",
        "print (\"List is = \", SimpleList)"
      ],
      "execution_count": 0,
      "outputs": [
        {
          "output_type": "stream",
          "text": [
            "List is =  [10, 20, 30, 40, 50]\n"
          ],
          "name": "stdout"
        }
      ]
    },
    {
      "cell_type": "code",
      "metadata": {
        "id": "omcTwO4pWy-4",
        "colab_type": "code",
        "colab": {},
        "outputId": "3682f20b-0169-4b99-d816-cec0f94b51f7"
      },
      "source": [
        "FloatList = [10.0,20.0,30.0,40.0,50.0]\n",
        "print (\"List is = \", FloatList)"
      ],
      "execution_count": 0,
      "outputs": [
        {
          "output_type": "stream",
          "text": [
            "List is =  [10.0, 20.0, 30.0, 40.0, 50.0]\n"
          ],
          "name": "stdout"
        }
      ]
    },
    {
      "cell_type": "code",
      "metadata": {
        "id": "nhYu900zWy-7",
        "colab_type": "code",
        "colab": {},
        "outputId": "de603a2a-130f-4b20-ed50-000d69ce34ff"
      },
      "source": [
        "StringList = [\"my\", \"python\"]\n",
        "print (\"List is = \", StringList)"
      ],
      "execution_count": 0,
      "outputs": [
        {
          "output_type": "stream",
          "text": [
            "List is =  ['my', 'python']\n"
          ],
          "name": "stdout"
        }
      ]
    },
    {
      "cell_type": "code",
      "metadata": {
        "id": "X4GfFgmJWy_A",
        "colab_type": "code",
        "colab": {},
        "outputId": "5fbfc741-3374-4e17-bec4-13852dcac4d4"
      },
      "source": [
        "CL = [100, 5.2, 'class']\n",
        "print (CL)"
      ],
      "execution_count": 0,
      "outputs": [
        {
          "output_type": "stream",
          "text": [
            "[100, 5.2, 'class']\n"
          ],
          "name": "stdout"
        }
      ]
    },
    {
      "cell_type": "code",
      "metadata": {
        "id": "wGMapCuFWy_E",
        "colab_type": "code",
        "colab": {},
        "outputId": "d3ef2c2f-0845-4ea9-eb5c-351aaf0434d9"
      },
      "source": [
        "# Updating the list\n",
        "\n",
        "list1 = ['physics', 'chemistry', 1997, 2000]\n",
        "print (list1)\n",
        "\n",
        "print (\"Orignal - Value at index 2 = \", list1[2])\n",
        "\n",
        "list1[2] = 2001\n",
        "\n",
        "print (\"Updated - Value at index 2 = \", list1[2])\n",
        "print (list1)"
      ],
      "execution_count": 0,
      "outputs": [
        {
          "output_type": "stream",
          "text": [
            "['physics', 'chemistry', 1997, 2000]\n",
            "Orignal - Value at index 2 =  1997\n",
            "Updated - Value at index 2 =  2001\n",
            "['physics', 'chemistry', 2001, 2000]\n"
          ],
          "name": "stdout"
        }
      ]
    },
    {
      "cell_type": "code",
      "metadata": {
        "id": "oNx8tkD8Wy_H",
        "colab_type": "code",
        "colab": {},
        "outputId": "ec4cb49d-c718-4a86-f387-0b9e06464ca4"
      },
      "source": [
        "# Deleting an element from the list\n",
        "\n",
        "list1 = ['physics', 'chemistry', 1997, 2000]\n",
        "print (list1)\n",
        "\n",
        "print (\"Orignal - Value at index 2 = \", list1[2])\n",
        "\n",
        "del (list1[2])\n",
        "\n",
        "print (\"Updated - Value at index 2 = \", list1[2])\n",
        "print (list1)"
      ],
      "execution_count": 0,
      "outputs": [
        {
          "output_type": "stream",
          "text": [
            "['physics', 'chemistry', 1997, 2000]\n",
            "Orignal - Value at index 2 =  1997\n",
            "Updated - Value at index 2 =  2000\n",
            "['physics', 'chemistry', 2000]\n"
          ],
          "name": "stdout"
        }
      ]
    },
    {
      "cell_type": "code",
      "metadata": {
        "id": "2KWwL8g1Wy_K",
        "colab_type": "code",
        "colab": {},
        "outputId": "5c542dae-c002-4d80-94f8-02770c3e7581"
      },
      "source": [
        "list1 = ['physics', 'chemistry', 1997, 2000]\n",
        "list2 = [1,2,3,4,5,6,7]\n",
        "\n",
        "print (list1[0])\n",
        "print (list2[1:5])\n",
        "print (list2[0:5])"
      ],
      "execution_count": 0,
      "outputs": [
        {
          "output_type": "stream",
          "text": [
            "physics\n",
            "[2, 3, 4, 5]\n",
            "[1, 2, 3, 4, 5]\n"
          ],
          "name": "stdout"
        }
      ]
    },
    {
      "cell_type": "code",
      "metadata": {
        "id": "S27kvms8Wy_N",
        "colab_type": "code",
        "colab": {},
        "outputId": "eb4e7aa0-03df-4c08-8693-cd7d5df37874"
      },
      "source": [
        "# list append() -- Modify - adding a new value\n",
        "\n",
        "aList = [123, 'xyz', 'zara', 'abc']\n",
        "\n",
        "aList.append(2009)\n",
        "\n",
        "print (\"Updated List : \", aList)"
      ],
      "execution_count": 0,
      "outputs": [
        {
          "output_type": "stream",
          "text": [
            "Updated List :  [123, 'xyz', 'zara', 'abc', 2009]\n"
          ],
          "name": "stdout"
        }
      ]
    },
    {
      "cell_type": "code",
      "metadata": {
        "id": "T-FWkeSJWy_Q",
        "colab_type": "code",
        "colab": {},
        "outputId": "8a857535-0526-4d0f-9413-ad217a0dcae3"
      },
      "source": [
        "# list extend -- Add other list\n",
        "aList = [123, 'xyz', 'zara', 'abc']\n",
        "bList = [2009, 'mani']\n",
        "\n",
        "aList.extend(bList)\n",
        "\n",
        "print (\"Extended List \", aList)"
      ],
      "execution_count": 0,
      "outputs": [
        {
          "output_type": "stream",
          "text": [
            "Extended List  [123, 'xyz', 'zara', 'abc', 2009, 'mani']\n"
          ],
          "name": "stdout"
        }
      ]
    },
    {
      "cell_type": "code",
      "metadata": {
        "id": "3-6NH48XWy_U",
        "colab_type": "code",
        "colab": {},
        "outputId": "9da8d41d-568c-462e-f6a9-ea5a01f051b5"
      },
      "source": [
        "bList.extend(aList)\n",
        "\n",
        "print (\"Extended List \", bList)"
      ],
      "execution_count": 0,
      "outputs": [
        {
          "output_type": "stream",
          "text": [
            "Extended List  [2009, 'mani', 123, 'xyz', 'zara', 'abc', 2009, 'mani']\n"
          ],
          "name": "stdout"
        }
      ]
    },
    {
      "cell_type": "code",
      "metadata": {
        "id": "LoRO7oFyWy_X",
        "colab_type": "code",
        "colab": {},
        "outputId": "78c47ddd-9670-4d8d-b39d-b95903a69e2b"
      },
      "source": [
        "aList = [123, 'xyz', 'zara', 'abc']\n",
        "bList = [2009, 'mani']\n",
        "\n",
        "print (aList + bList)\n",
        "print (bList + aList)"
      ],
      "execution_count": 0,
      "outputs": [
        {
          "output_type": "stream",
          "text": [
            "[123, 'xyz', 'zara', 'abc', 2009, 'mani']\n",
            "[2009, 'mani', 123, 'xyz', 'zara', 'abc']\n"
          ],
          "name": "stdout"
        }
      ]
    },
    {
      "cell_type": "code",
      "metadata": {
        "id": "vkSmkT8jWy_a",
        "colab_type": "code",
        "colab": {},
        "outputId": "d2895051-925a-47a4-f525-5d825d2fd1b0"
      },
      "source": [
        "print (aList)\n",
        "print (bList)"
      ],
      "execution_count": 0,
      "outputs": [
        {
          "output_type": "stream",
          "text": [
            "[123, 'xyz', 'zara', 'abc']\n",
            "[2009, 'mani']\n"
          ],
          "name": "stdout"
        }
      ]
    },
    {
      "cell_type": "code",
      "metadata": {
        "id": "IknUyXH1Wy_d",
        "colab_type": "code",
        "colab": {},
        "outputId": "7b9d0e67-9a3b-4221-f804-6855d049b344"
      },
      "source": [
        "# Shows the index of an element\n",
        "\n",
        "aList = [123, 'xyz', 'zara', 'abc']\n",
        "\n",
        "print (aList.index('xyz'))\n",
        "print (aList.index('zara'))"
      ],
      "execution_count": 0,
      "outputs": [
        {
          "output_type": "stream",
          "text": [
            "1\n",
            "2\n"
          ],
          "name": "stdout"
        }
      ]
    },
    {
      "cell_type": "code",
      "metadata": {
        "id": "A44tXn4CWy_f",
        "colab_type": "code",
        "colab": {},
        "outputId": "050e0cdd-2213-468e-96a3-853c0356be57"
      },
      "source": [
        "# Modify a list: Insert a new item at a certain index\n",
        "\n",
        "aList = [123, 'xyz', 'zara', 'abc']\n",
        "\n",
        "aList.insert(3,2009) # index and value\n",
        "print (aList) "
      ],
      "execution_count": 0,
      "outputs": [
        {
          "output_type": "stream",
          "text": [
            "[123, 'xyz', 'zara', 2009, 'abc']\n"
          ],
          "name": "stdout"
        }
      ]
    },
    {
      "cell_type": "code",
      "metadata": {
        "id": "-LCMS0FwWy_h",
        "colab_type": "code",
        "colab": {},
        "outputId": "89ffffc0-a872-4794-e40e-b7766e01e13d"
      },
      "source": [
        "zList=[1, 2, 3, 123, 'ram', 1, 2, 3]\n",
        "print(zList.index(1)) "
      ],
      "execution_count": 0,
      "outputs": [
        {
          "output_type": "stream",
          "text": [
            "0\n"
          ],
          "name": "stdout"
        }
      ]
    },
    {
      "cell_type": "code",
      "metadata": {
        "id": "si_F6bNAWy_m",
        "colab_type": "code",
        "colab": {},
        "outputId": "da671363-2afc-4048-aa09-3398cbf3cf1f"
      },
      "source": [
        "zList=[1, 2, 3, 123, 'ram', 1, 2, 3, 1]\n",
        "print(zList.index(1,1)) "
      ],
      "execution_count": 0,
      "outputs": [
        {
          "output_type": "stream",
          "text": [
            "5\n"
          ],
          "name": "stdout"
        }
      ]
    },
    {
      "cell_type": "code",
      "metadata": {
        "id": "WLo7g9_ZWy_o",
        "colab_type": "code",
        "colab": {},
        "outputId": "989e4b43-a54e-4d80-8271-efa0acb7cc83"
      },
      "source": [
        "# Remove - element \n",
        "aList = [123, 'xyz', 'zara', 'abc']\n",
        "\n",
        "aList.remove('xyz')\n",
        "print ('List = ', aList)\n",
        "\n",
        "aList.remove('zara')\n",
        "print ('List = ', aList)"
      ],
      "execution_count": 0,
      "outputs": [
        {
          "output_type": "stream",
          "text": [
            "List =  [123, 'zara', 'abc']\n",
            "List =  [123, 'abc']\n"
          ],
          "name": "stdout"
        }
      ]
    },
    {
      "cell_type": "code",
      "metadata": {
        "id": "vztDtIkEWy_s",
        "colab_type": "code",
        "colab": {},
        "outputId": "95cf38da-59f3-4da8-90ab-bad114e99ac2"
      },
      "source": [
        "# pop = remove list element using indices\n",
        "aList = [123, 'xyz', 'zara', 'abc']\n",
        "\n",
        "print (aList.pop())  # Access and remove list data using element indices\n",
        "\n",
        "print (aList.pop(2))\n",
        "print (aList)"
      ],
      "execution_count": 0,
      "outputs": [
        {
          "output_type": "stream",
          "text": [
            "abc\n",
            "zara\n",
            "[123, 'xyz']\n"
          ],
          "name": "stdout"
        }
      ]
    },
    {
      "cell_type": "code",
      "metadata": {
        "id": "LkRH0rQUWy_u",
        "colab_type": "code",
        "colab": {}
      },
      "source": [
        "del aList # deleting the entire list"
      ],
      "execution_count": 0,
      "outputs": []
    },
    {
      "cell_type": "code",
      "metadata": {
        "id": "XcfgfEOQWy_w",
        "colab_type": "code",
        "colab": {},
        "outputId": "4c2b1d3e-c503-48d6-e479-20fc1a7b3b2e"
      },
      "source": [
        "print (aList)"
      ],
      "execution_count": 0,
      "outputs": [
        {
          "output_type": "error",
          "ename": "NameError",
          "evalue": "name 'aList' is not defined",
          "traceback": [
            "\u001b[1;31m---------------------------------------------------------------------------\u001b[0m",
            "\u001b[1;31mNameError\u001b[0m                                 Traceback (most recent call last)",
            "\u001b[1;32m<ipython-input-35-32bcf2dda99a>\u001b[0m in \u001b[0;36m<module>\u001b[1;34m()\u001b[0m\n\u001b[1;32m----> 1\u001b[1;33m \u001b[0mprint\u001b[0m \u001b[1;33m(\u001b[0m\u001b[0maList\u001b[0m\u001b[1;33m)\u001b[0m\u001b[1;33m\u001b[0m\u001b[0m\n\u001b[0m",
            "\u001b[1;31mNameError\u001b[0m: name 'aList' is not defined"
          ]
        }
      ]
    },
    {
      "cell_type": "markdown",
      "metadata": {
        "id": "Uc4YicK6Wy_z",
        "colab_type": "text"
      },
      "source": [
        "Just like tuples, you can access elements in a list through indices. \n",
        "\n",
        "As you have learned earlier, positive indices are counted from the left, starting with 0. By providing the positive index, we can access the specified list element. \n",
        "\n",
        "Recall that negative indices are counted from the right, starting with -1. Since -2 refers to the second element from the right in the list, the value 5.2 is generated as the output."
      ]
    },
    {
      "cell_type": "code",
      "metadata": {
        "id": "PUuTS7_hWy_1",
        "colab_type": "code",
        "colab": {},
        "outputId": "cf5b716c-b399-4b10-c382-cb9ca74bd6d6"
      },
      "source": [
        "print (CL)"
      ],
      "execution_count": 0,
      "outputs": [
        {
          "output_type": "stream",
          "text": [
            "[100, 5.2, 'class']\n"
          ],
          "name": "stdout"
        }
      ]
    },
    {
      "cell_type": "code",
      "metadata": {
        "id": "PlEh9upvWy_3",
        "colab_type": "code",
        "colab": {},
        "outputId": "85140916-57d6-40a1-f714-c3cfa65eb514"
      },
      "source": [
        "print (CL[0])\n",
        "print (CL[1])\n",
        "print (CL[2])"
      ],
      "execution_count": 0,
      "outputs": [
        {
          "output_type": "stream",
          "text": [
            "100\n",
            "5.2\n",
            "class\n"
          ],
          "name": "stdout"
        }
      ]
    },
    {
      "cell_type": "code",
      "metadata": {
        "id": "06qnwDsRWy_6",
        "colab_type": "code",
        "colab": {},
        "outputId": "ec4a6b4f-c5c0-41b9-bec4-75d2af5eb6a8"
      },
      "source": [
        "print (CL[-3])\n",
        "print (CL[-2])\n",
        "print (CL[-1])"
      ],
      "execution_count": 0,
      "outputs": [
        {
          "output_type": "stream",
          "text": [
            "100\n",
            "5.2\n",
            "class\n"
          ],
          "name": "stdout"
        }
      ]
    },
    {
      "cell_type": "code",
      "metadata": {
        "id": "rcbqLi16Wy_-",
        "colab_type": "code",
        "colab": {},
        "outputId": "8c8ee583-8a2b-4312-c7be-aa0176244e69"
      },
      "source": [
        "first_list = [500, 'Smith', 5.2, 'John', 'class', 1000, 45.95]\n",
        "print (first_list)"
      ],
      "execution_count": 0,
      "outputs": [
        {
          "output_type": "stream",
          "text": [
            "[500, 'Smith', 5.2, 'John', 'class', 1000, 45.95]\n"
          ],
          "name": "stdout"
        }
      ]
    },
    {
      "cell_type": "code",
      "metadata": {
        "id": "Hme4wv8zWzAC",
        "colab_type": "code",
        "colab": {},
        "outputId": "4af3a6bf-b209-42dc-b1cd-cdbe5987dc2c"
      },
      "source": [
        "print (first_list[1:4])"
      ],
      "execution_count": 0,
      "outputs": [
        {
          "output_type": "stream",
          "text": [
            "['Smith', 5.2, 'John']\n"
          ],
          "name": "stdout"
        }
      ]
    },
    {
      "cell_type": "code",
      "metadata": {
        "id": "ZhnOb2sqWzAF",
        "colab_type": "code",
        "colab": {},
        "outputId": "b35c1828-fe62-43be-a692-8f424297101e"
      },
      "source": [
        "print (first_list[1:-2]) "
      ],
      "execution_count": 0,
      "outputs": [
        {
          "output_type": "stream",
          "text": [
            "['Smith', 5.2, 'John', 'class']\n"
          ],
          "name": "stdout"
        }
      ]
    },
    {
      "cell_type": "code",
      "metadata": {
        "id": "KkpinGhdWzAI",
        "colab_type": "code",
        "colab": {}
      },
      "source": [
        "A = [1, 2, 3 ,4 , [10,20,30,40]] "
      ],
      "execution_count": 0,
      "outputs": []
    },
    {
      "cell_type": "markdown",
      "metadata": {
        "id": "CwpWBhj1WzAK",
        "colab_type": "text"
      },
      "source": [
        "how will i print 30?\n",
        "\n",
        "how will i print [10,20,30,40]?"
      ]
    },
    {
      "cell_type": "code",
      "metadata": {
        "id": "4IgwKGljWzAL",
        "colab_type": "code",
        "colab": {},
        "outputId": "363c848d-2395-4998-b495-15af348f7e54"
      },
      "source": [
        "print (A[4])\n",
        "print (A[-1])"
      ],
      "execution_count": 0,
      "outputs": [
        {
          "output_type": "stream",
          "text": [
            "[10, 20, 30, 40]\n",
            "[10, 20, 30, 40]\n"
          ],
          "name": "stdout"
        }
      ]
    },
    {
      "cell_type": "code",
      "metadata": {
        "id": "pfynOLLbWzAO",
        "colab_type": "code",
        "colab": {},
        "outputId": "656349c0-018e-4b16-9d68-97035975a614"
      },
      "source": [
        "print (A[4][2])\n",
        "print (A[-1][2])"
      ],
      "execution_count": 0,
      "outputs": [
        {
          "output_type": "stream",
          "text": [
            "30\n",
            "30\n"
          ],
          "name": "stdout"
        }
      ]
    },
    {
      "cell_type": "code",
      "metadata": {
        "id": "NpmI9hqNWzAS",
        "colab_type": "code",
        "colab": {},
        "outputId": "2ef95b93-c42c-4f7f-b172-6787596b0dfa"
      },
      "source": [
        "aList = [123, 'xyz', 'zara', 'abc']\n",
        "print (aList)\n",
        "\n",
        "aTuple = tuple(aList)\n",
        "print (aTuple)"
      ],
      "execution_count": 0,
      "outputs": [
        {
          "output_type": "stream",
          "text": [
            "[123, 'xyz', 'zara', 'abc']\n",
            "(123, 'xyz', 'zara', 'abc')\n"
          ],
          "name": "stdout"
        }
      ]
    },
    {
      "cell_type": "code",
      "metadata": {
        "id": "zI1Nd3-fWzAU",
        "colab_type": "code",
        "colab": {},
        "outputId": "78e7c066-13cd-4e6b-970a-84f4a4365b95"
      },
      "source": [
        "aTuple = (123, 'xyz', 'zara', 'abc')\n",
        "print (aTuple)\n",
        "\n",
        "aList = list(aTuple)\n",
        "print (aList)"
      ],
      "execution_count": 0,
      "outputs": [
        {
          "output_type": "stream",
          "text": [
            "(123, 'xyz', 'zara', 'abc')\n",
            "[123, 'xyz', 'zara', 'abc']\n"
          ],
          "name": "stdout"
        }
      ]
    },
    {
      "cell_type": "code",
      "metadata": {
        "id": "Qa1TSPiwWzAX",
        "colab_type": "code",
        "colab": {},
        "outputId": "cc4ecf08-6cc4-4892-edbb-3e42ca3a4989"
      },
      "source": [
        "A = [1, 2, 3 ,4 , [10,20,30,40]] \n",
        "print (A)\n",
        "\n",
        "aTuple = tuple(A)\n",
        "print (aTuple)"
      ],
      "execution_count": 0,
      "outputs": [
        {
          "output_type": "stream",
          "text": [
            "[1, 2, 3, 4, [10, 20, 30, 40]]\n",
            "(1, 2, 3, 4, [10, 20, 30, 40])\n"
          ],
          "name": "stdout"
        }
      ]
    },
    {
      "cell_type": "code",
      "metadata": {
        "id": "gStYH6JZWzAZ",
        "colab_type": "code",
        "colab": {},
        "outputId": "0dd5ffbe-b1ef-4122-8ebd-27f4c9b7fbf2"
      },
      "source": [
        "aTuple[4][2] = 50\n",
        "\n",
        "print (aTuple)"
      ],
      "execution_count": 0,
      "outputs": [
        {
          "output_type": "stream",
          "text": [
            "(1, 2, 3, 4, [10, 20, 50, 40])\n"
          ],
          "name": "stdout"
        }
      ]
    },
    {
      "cell_type": "code",
      "metadata": {
        "id": "gyxGeh3WWzAc",
        "colab_type": "code",
        "colab": {},
        "outputId": "498311bc-9928-45b8-f249-2e285e87fd87"
      },
      "source": [
        "aTuple[4] = 50\n",
        "\n",
        "print (aTuple)"
      ],
      "execution_count": 0,
      "outputs": [
        {
          "output_type": "error",
          "ename": "TypeError",
          "evalue": "'tuple' object does not support item assignment",
          "traceback": [
            "\u001b[1;31m---------------------------------------------------------------------------\u001b[0m",
            "\u001b[1;31mTypeError\u001b[0m                                 Traceback (most recent call last)",
            "\u001b[1;32m<ipython-input-51-f1f04687f029>\u001b[0m in \u001b[0;36m<module>\u001b[1;34m()\u001b[0m\n\u001b[1;32m----> 1\u001b[1;33m \u001b[0maTuple\u001b[0m\u001b[1;33m[\u001b[0m\u001b[1;36m4\u001b[0m\u001b[1;33m]\u001b[0m \u001b[1;33m=\u001b[0m \u001b[1;36m50\u001b[0m\u001b[1;33m\u001b[0m\u001b[0m\n\u001b[0m\u001b[0;32m      2\u001b[0m \u001b[1;33m\u001b[0m\u001b[0m\n\u001b[0;32m      3\u001b[0m \u001b[0mprint\u001b[0m \u001b[1;33m(\u001b[0m\u001b[0maTuple\u001b[0m\u001b[1;33m)\u001b[0m\u001b[1;33m\u001b[0m\u001b[0m\n",
            "\u001b[1;31mTypeError\u001b[0m: 'tuple' object does not support item assignment"
          ]
        }
      ]
    },
    {
      "cell_type": "markdown",
      "metadata": {
        "id": "7NNvyEUDWzAe",
        "colab_type": "text"
      },
      "source": [
        "# Dictionary"
      ]
    },
    {
      "cell_type": "code",
      "metadata": {
        "id": "nAPn8R0tWzAf",
        "colab_type": "code",
        "colab": {}
      },
      "source": [
        "dict1 = {'Name': 'Zara', 'Age': 7, 'Class': 'First'}"
      ],
      "execution_count": 0,
      "outputs": []
    },
    {
      "cell_type": "code",
      "metadata": {
        "id": "No7vpLj5WzAh",
        "colab_type": "code",
        "colab": {},
        "outputId": "0482f34e-3381-4663-ea55-8ce67dafde4b"
      },
      "source": [
        "print (dict1)"
      ],
      "execution_count": 0,
      "outputs": [
        {
          "output_type": "stream",
          "text": [
            "{'Name': 'Zara', 'Age': 7, 'Class': 'First'}\n"
          ],
          "name": "stdout"
        }
      ]
    },
    {
      "cell_type": "code",
      "metadata": {
        "id": "skOSV5oIWzAj",
        "colab_type": "code",
        "colab": {},
        "outputId": "13565b76-8079-467b-8d22-f5b553be6da1"
      },
      "source": [
        "print (dict1.keys()) #View only keys"
      ],
      "execution_count": 0,
      "outputs": [
        {
          "output_type": "stream",
          "text": [
            "dict_keys(['Name', 'Age', 'Class'])\n"
          ],
          "name": "stdout"
        }
      ]
    },
    {
      "cell_type": "code",
      "metadata": {
        "id": "kCx5ftWLWzAl",
        "colab_type": "code",
        "colab": {},
        "outputId": "6ef1422d-3d00-4a59-e239-27138a74353b"
      },
      "source": [
        "print (dict1.values()) #View only values"
      ],
      "execution_count": 0,
      "outputs": [
        {
          "output_type": "stream",
          "text": [
            "dict_values(['Zara', 7, 'First'])\n"
          ],
          "name": "stdout"
        }
      ]
    },
    {
      "cell_type": "code",
      "metadata": {
        "id": "T7NBBOHRWzAo",
        "colab_type": "code",
        "colab": {},
        "outputId": "b92f77be-67b8-4da9-a111-6631e133e8d6"
      },
      "source": [
        "# Access with keys\n",
        "\n",
        "print (dict1['Name'])\n",
        "print (dict1['Age'])"
      ],
      "execution_count": 0,
      "outputs": [
        {
          "output_type": "stream",
          "text": [
            "Zara\n",
            "7\n"
          ],
          "name": "stdout"
        }
      ]
    },
    {
      "cell_type": "code",
      "metadata": {
        "id": "sqKGPItVWzAs",
        "colab_type": "code",
        "colab": {},
        "outputId": "b926fe82-ce8d-46ea-fa1b-78a393a3931f"
      },
      "source": [
        "dict1.update({'Age': [7,8]})\n",
        "print (dict1)"
      ],
      "execution_count": 0,
      "outputs": [
        {
          "output_type": "stream",
          "text": [
            "{'Name': 'Zara', 'Age': [7, 8], 'Class': 'First'}\n"
          ],
          "name": "stdout"
        }
      ]
    },
    {
      "cell_type": "code",
      "metadata": {
        "id": "VKAtXFxdWzAt",
        "colab_type": "code",
        "colab": {},
        "outputId": "ed375ec2-f21d-4d1c-c309-3684ef72131a"
      },
      "source": [
        "dict1 = {['Name']:'Zara', 'Age':7 }\n",
        "print (dict1)"
      ],
      "execution_count": 0,
      "outputs": [
        {
          "output_type": "error",
          "ename": "TypeError",
          "evalue": "unhashable type: 'list'",
          "traceback": [
            "\u001b[1;31m---------------------------------------------------------------------------\u001b[0m",
            "\u001b[1;31mTypeError\u001b[0m                                 Traceback (most recent call last)",
            "\u001b[1;32m<ipython-input-66-3ccddfbfc1f0>\u001b[0m in \u001b[0;36m<module>\u001b[1;34m()\u001b[0m\n\u001b[1;32m----> 1\u001b[1;33m \u001b[0mdict1\u001b[0m \u001b[1;33m=\u001b[0m \u001b[1;33m{\u001b[0m\u001b[1;33m[\u001b[0m\u001b[1;34m'Name'\u001b[0m\u001b[1;33m]\u001b[0m\u001b[1;33m:\u001b[0m\u001b[1;34m'Zara'\u001b[0m\u001b[1;33m,\u001b[0m \u001b[1;34m'Age'\u001b[0m\u001b[1;33m:\u001b[0m\u001b[1;36m7\u001b[0m \u001b[1;33m}\u001b[0m\u001b[1;33m\u001b[0m\u001b[0m\n\u001b[0m\u001b[0;32m      2\u001b[0m \u001b[0mprint\u001b[0m \u001b[1;33m(\u001b[0m\u001b[0mdict1\u001b[0m\u001b[1;33m)\u001b[0m\u001b[1;33m\u001b[0m\u001b[0m\n",
            "\u001b[1;31mTypeError\u001b[0m: unhashable type: 'list'"
          ]
        }
      ]
    },
    {
      "cell_type": "code",
      "metadata": {
        "id": "DnEWpr_hWzAv",
        "colab_type": "code",
        "colab": {},
        "outputId": "98557bb8-0b71-4d63-cd6e-fc2918f626ba"
      },
      "source": [
        "print (dict1[1])"
      ],
      "execution_count": 0,
      "outputs": [
        {
          "output_type": "error",
          "ename": "KeyError",
          "evalue": "1",
          "traceback": [
            "\u001b[1;31m---------------------------------------------------------------------------\u001b[0m",
            "\u001b[1;31mKeyError\u001b[0m                                  Traceback (most recent call last)",
            "\u001b[1;32m<ipython-input-67-1b8a6c75ad22>\u001b[0m in \u001b[0;36m<module>\u001b[1;34m()\u001b[0m\n\u001b[1;32m----> 1\u001b[1;33m \u001b[0mprint\u001b[0m \u001b[1;33m(\u001b[0m\u001b[0mdict1\u001b[0m\u001b[1;33m[\u001b[0m\u001b[1;36m1\u001b[0m\u001b[1;33m]\u001b[0m\u001b[1;33m)\u001b[0m\u001b[1;33m\u001b[0m\u001b[0m\n\u001b[0m",
            "\u001b[1;31mKeyError\u001b[0m: 1"
          ]
        }
      ]
    },
    {
      "cell_type": "code",
      "metadata": {
        "id": "0ClGX0NCWzAx",
        "colab_type": "code",
        "colab": {},
        "outputId": "3cda0cad-a985-41f1-9662-a40a8ed9bf9a"
      },
      "source": [
        "dict1 = {('Name'):'Zara', 'Age':7 }\n",
        "print (dict1)"
      ],
      "execution_count": 0,
      "outputs": [
        {
          "output_type": "stream",
          "text": [
            "{'Name': 'Zara', 'Age': 7}\n"
          ],
          "name": "stdout"
        }
      ]
    },
    {
      "cell_type": "code",
      "metadata": {
        "id": "aVrqeP5NWzAy",
        "colab_type": "code",
        "colab": {},
        "outputId": "890fde60-e78c-4dff-9b91-17b9b257cf1f"
      },
      "source": [
        "dict1 = {('Name1', 'Name2'):'Zara', 'Age':7 }\n",
        "print (dict1)"
      ],
      "execution_count": 0,
      "outputs": [
        {
          "output_type": "stream",
          "text": [
            "{('Name1', 'Name2'): 'Zara', 'Age': 7}\n"
          ],
          "name": "stdout"
        }
      ]
    },
    {
      "cell_type": "code",
      "metadata": {
        "id": "IXuEiUfhWzA0",
        "colab_type": "code",
        "colab": {},
        "outputId": "5e3b185a-69f8-4d4b-aae8-aff8da9034da"
      },
      "source": [
        "dict1 = {1 :'Zara', 'Age':7 }\n",
        "print (dict1)"
      ],
      "execution_count": 0,
      "outputs": [
        {
          "output_type": "stream",
          "text": [
            "{1: 'Zara', 'Age': 7}\n"
          ],
          "name": "stdout"
        }
      ]
    }
  ]
}